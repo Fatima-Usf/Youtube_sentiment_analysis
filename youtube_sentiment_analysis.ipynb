{
  "nbformat": 4,
  "nbformat_minor": 0,
  "metadata": {
    "colab": {
      "name": "youtube_sentiment_analysis.ipynb",
      "provenance": [],
      "authorship_tag": "ABX9TyN7ih17M/sdz/VSmOmeCuV/",
      "include_colab_link": true
    },
    "kernelspec": {
      "name": "python3",
      "display_name": "Python 3"
    },
    "language_info": {
      "name": "python"
    }
  },
  "cells": [
    {
      "cell_type": "markdown",
      "metadata": {
        "id": "view-in-github",
        "colab_type": "text"
      },
      "source": [
        "<a href=\"https://colab.research.google.com/github/Fatima-Usf/Youtube_sentiment_analysis/blob/main/youtube_sentiment_analysis.ipynb\" target=\"_parent\"><img src=\"https://colab.research.google.com/assets/colab-badge.svg\" alt=\"Open In Colab\"/></a>"
      ]
    },
    {
      "cell_type": "code",
      "metadata": {
        "id": "W0gfQOqc6DZg"
      },
      "source": [
        "import pandas as pd\n",
        "import numpy as np\n",
        "import matplotlib.pyplot as plt\n",
        "import seaborn as sb #to visualise data\n",
        "from textblob import TextBlob"
      ],
      "execution_count": 7,
      "outputs": []
    },
    {
      "cell_type": "code",
      "metadata": {
        "colab": {
          "base_uri": "https://localhost:8080/"
        },
        "id": "QhMgodPaANcP",
        "outputId": "87d34479-eac6-4bbf-e6c4-86538ea11001"
      },
      "source": [
        "yt_comments = pd.read_csv(\"GBcomments.csv\", error_bad_lines=False) #error_bad_lines to fix -> 'ParserError' because our data contain lines with too many fields"
      ],
      "execution_count": 4,
      "outputs": [
        {
          "output_type": "stream",
          "text": [
            "b'Skipping line 113225: expected 4 fields, saw 5\\n'\n",
            "b'Skipping line 158379: expected 4 fields, saw 7\\n'\n"
          ],
          "name": "stderr"
        }
      ]
    },
    {
      "cell_type": "code",
      "metadata": {
        "colab": {
          "base_uri": "https://localhost:8080/",
          "height": 204
        },
        "id": "3Pfjnx8gD8wt",
        "outputId": "b5ac20ae-b131-4ece-affb-70eb8f400655"
      },
      "source": [
        "yt_comments.head()"
      ],
      "execution_count": 5,
      "outputs": [
        {
          "output_type": "execute_result",
          "data": {
            "text/html": [
              "<div>\n",
              "<style scoped>\n",
              "    .dataframe tbody tr th:only-of-type {\n",
              "        vertical-align: middle;\n",
              "    }\n",
              "\n",
              "    .dataframe tbody tr th {\n",
              "        vertical-align: top;\n",
              "    }\n",
              "\n",
              "    .dataframe thead th {\n",
              "        text-align: right;\n",
              "    }\n",
              "</style>\n",
              "<table border=\"1\" class=\"dataframe\">\n",
              "  <thead>\n",
              "    <tr style=\"text-align: right;\">\n",
              "      <th></th>\n",
              "      <th>video_id</th>\n",
              "      <th>comment_text</th>\n",
              "      <th>likes</th>\n",
              "      <th>replies</th>\n",
              "    </tr>\n",
              "  </thead>\n",
              "  <tbody>\n",
              "    <tr>\n",
              "      <th>0</th>\n",
              "      <td>jt2OHQh0HoQ</td>\n",
              "      <td>It's more accurate to call it the M+ (1000) be...</td>\n",
              "      <td>0.0</td>\n",
              "      <td>0.0</td>\n",
              "    </tr>\n",
              "    <tr>\n",
              "      <th>1</th>\n",
              "      <td>jt2OHQh0HoQ</td>\n",
              "      <td>To be there with a samsung phone\\n😂😂😂</td>\n",
              "      <td>1.0</td>\n",
              "      <td>0.0</td>\n",
              "    </tr>\n",
              "    <tr>\n",
              "      <th>2</th>\n",
              "      <td>jt2OHQh0HoQ</td>\n",
              "      <td>Thank gosh, a place I can watch it without hav...</td>\n",
              "      <td>0.0</td>\n",
              "      <td>0.0</td>\n",
              "    </tr>\n",
              "    <tr>\n",
              "      <th>3</th>\n",
              "      <td>jt2OHQh0HoQ</td>\n",
              "      <td>What happened to the home button on the iPhone...</td>\n",
              "      <td>0.0</td>\n",
              "      <td>0.0</td>\n",
              "    </tr>\n",
              "    <tr>\n",
              "      <th>4</th>\n",
              "      <td>jt2OHQh0HoQ</td>\n",
              "      <td>Power is the disease.  Care is the cure.  Keep...</td>\n",
              "      <td>0.0</td>\n",
              "      <td>0.0</td>\n",
              "    </tr>\n",
              "  </tbody>\n",
              "</table>\n",
              "</div>"
            ],
            "text/plain": [
              "      video_id  ... replies\n",
              "0  jt2OHQh0HoQ  ...     0.0\n",
              "1  jt2OHQh0HoQ  ...     0.0\n",
              "2  jt2OHQh0HoQ  ...     0.0\n",
              "3  jt2OHQh0HoQ  ...     0.0\n",
              "4  jt2OHQh0HoQ  ...     0.0\n",
              "\n",
              "[5 rows x 4 columns]"
            ]
          },
          "metadata": {
            "tags": []
          },
          "execution_count": 5
        }
      ]
    },
    {
      "cell_type": "code",
      "metadata": {
        "colab": {
          "base_uri": "https://localhost:8080/"
        },
        "id": "ixEVFv0aEN6j",
        "outputId": "2f99d639-5f33-47e5-8088-d712a1a1a607"
      },
      "source": [
        "yt_comments.isna().sum() #checking missing values by getting the summation of all the missing values available"
      ],
      "execution_count": 12,
      "outputs": [
        {
          "output_type": "execute_result",
          "data": {
            "text/plain": [
              "video_id         0\n",
              "comment_text    12\n",
              "likes            1\n",
              "replies          1\n",
              "dtype: int64"
            ]
          },
          "metadata": {
            "tags": []
          },
          "execution_count": 12
        }
      ]
    },
    {
      "cell_type": "code",
      "metadata": {
        "id": "dO3xA1pSFY35"
      },
      "source": [
        "# Dropping the missing values\n",
        "yt_comments.dropna(inplace=True) # inplace to keep the DF with valid entries in the same variable\n",
        "\n"
      ],
      "execution_count": 13,
      "outputs": []
    }
  ]
}