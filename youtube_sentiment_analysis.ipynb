{
  "nbformat": 4,
  "nbformat_minor": 0,
  "metadata": {
    "colab": {
      "name": "youtube_sentiment_analysis.ipynb",
      "provenance": [],
      "authorship_tag": "ABX9TyMTGHiXsoPLmlUH8HdRJtRI",
      "include_colab_link": true
    },
    "kernelspec": {
      "name": "python3",
      "display_name": "Python 3"
    },
    "language_info": {
      "name": "python"
    }
  },
  "cells": [
    {
      "cell_type": "markdown",
      "metadata": {
        "id": "view-in-github",
        "colab_type": "text"
      },
      "source": [
        "<a href=\"https://colab.research.google.com/github/Fatima-Usf/Youtube_sentiment_analysis/blob/main/youtube_sentiment_analysis.ipynb\" target=\"_parent\"><img src=\"https://colab.research.google.com/assets/colab-badge.svg\" alt=\"Open In Colab\"/></a>"
      ]
    },
    {
      "cell_type": "code",
      "metadata": {
        "id": "W0gfQOqc6DZg"
      },
      "source": [
        "import pandas as pd\n",
        "import numpy as np\n",
        "import matplotlib.pyplot as plt\n",
        "import seaborn as sb #to visualise data\n",
        "from textblob import TextBlob"
      ],
      "execution_count": 5,
      "outputs": []
    },
    {
      "cell_type": "markdown",
      "metadata": {
        "id": "ecuHVoXNNOMk"
      },
      "source": [
        "# Loading data"
      ]
    },
    {
      "cell_type": "code",
      "metadata": {
        "id": "QhMgodPaANcP"
      },
      "source": [
        "yt_comments = pd.read_csv(\"GBcomments.csv\", error_bad_lines=False) #error_bad_lines to fix 'ParserError' because our data contain lines with too many fields"
      ],
      "execution_count": 6,
      "outputs": []
    },
    {
      "cell_type": "code",
      "metadata": {
        "colab": {
          "base_uri": "https://localhost:8080/",
          "height": 204
        },
        "id": "3Pfjnx8gD8wt",
        "outputId": "387df197-cd06-43ef-e3f8-690030fb781f"
      },
      "source": [
        "yt_comments.head()"
      ],
      "execution_count": 7,
      "outputs": [
        {
          "output_type": "execute_result",
          "data": {
            "text/html": [
              "<div>\n",
              "<style scoped>\n",
              "    .dataframe tbody tr th:only-of-type {\n",
              "        vertical-align: middle;\n",
              "    }\n",
              "\n",
              "    .dataframe tbody tr th {\n",
              "        vertical-align: top;\n",
              "    }\n",
              "\n",
              "    .dataframe thead th {\n",
              "        text-align: right;\n",
              "    }\n",
              "</style>\n",
              "<table border=\"1\" class=\"dataframe\">\n",
              "  <thead>\n",
              "    <tr style=\"text-align: right;\">\n",
              "      <th></th>\n",
              "      <th>video_id</th>\n",
              "      <th>comment_text</th>\n",
              "      <th>likes</th>\n",
              "      <th>replies</th>\n",
              "    </tr>\n",
              "  </thead>\n",
              "  <tbody>\n",
              "    <tr>\n",
              "      <th>0</th>\n",
              "      <td>jt2OHQh0HoQ</td>\n",
              "      <td>It's more accurate to call it the M+ (1000) be...</td>\n",
              "      <td>0.0</td>\n",
              "      <td>0.0</td>\n",
              "    </tr>\n",
              "    <tr>\n",
              "      <th>1</th>\n",
              "      <td>jt2OHQh0HoQ</td>\n",
              "      <td>To be there with a samsung phone\\n😂😂😂</td>\n",
              "      <td>1.0</td>\n",
              "      <td>0.0</td>\n",
              "    </tr>\n",
              "    <tr>\n",
              "      <th>2</th>\n",
              "      <td>jt2OHQh0HoQ</td>\n",
              "      <td>Thank gosh, a place I can watch it without hav...</td>\n",
              "      <td>0.0</td>\n",
              "      <td>0.0</td>\n",
              "    </tr>\n",
              "    <tr>\n",
              "      <th>3</th>\n",
              "      <td>jt2OHQh0HoQ</td>\n",
              "      <td>What happened to the home button on the iPhone...</td>\n",
              "      <td>0.0</td>\n",
              "      <td>0.0</td>\n",
              "    </tr>\n",
              "    <tr>\n",
              "      <th>4</th>\n",
              "      <td>jt2OHQh0HoQ</td>\n",
              "      <td>Power is the disease.  Care is the cure.  Keep...</td>\n",
              "      <td>0.0</td>\n",
              "      <td>0.0</td>\n",
              "    </tr>\n",
              "  </tbody>\n",
              "</table>\n",
              "</div>"
            ],
            "text/plain": [
              "      video_id  ... replies\n",
              "0  jt2OHQh0HoQ  ...     0.0\n",
              "1  jt2OHQh0HoQ  ...     0.0\n",
              "2  jt2OHQh0HoQ  ...     0.0\n",
              "3  jt2OHQh0HoQ  ...     0.0\n",
              "4  jt2OHQh0HoQ  ...     0.0\n",
              "\n",
              "[5 rows x 4 columns]"
            ]
          },
          "metadata": {
            "tags": []
          },
          "execution_count": 7
        }
      ]
    },
    {
      "cell_type": "markdown",
      "metadata": {
        "id": "jPZVaY8sNeoR"
      },
      "source": [
        "# Data preprocessing"
      ]
    },
    {
      "cell_type": "code",
      "metadata": {
        "colab": {
          "base_uri": "https://localhost:8080/"
        },
        "id": "ixEVFv0aEN6j",
        "outputId": "f04dd0e4-04e0-4411-d6d1-6230b6981b15"
      },
      "source": [
        "yt_comments.isna().sum() #checking missing values by getting the summation of all the missing values available"
      ],
      "execution_count": 8,
      "outputs": [
        {
          "output_type": "execute_result",
          "data": {
            "text/plain": [
              "video_id        0\n",
              "comment_text    7\n",
              "likes           1\n",
              "replies         1\n",
              "dtype: int64"
            ]
          },
          "metadata": {
            "tags": []
          },
          "execution_count": 8
        }
      ]
    },
    {
      "cell_type": "code",
      "metadata": {
        "id": "dO3xA1pSFY35"
      },
      "source": [
        "# Dropping the missing values\n",
        "yt_comments.dropna(inplace=True) # inplace to keep the DF with valid entries in the same variable\n"
      ],
      "execution_count": 9,
      "outputs": []
    },
    {
      "cell_type": "markdown",
      "metadata": {
        "id": "k9HniQ5yNoon"
      },
      "source": [
        "# Applying TextBlob library to get the polarity"
      ]
    },
    {
      "cell_type": "code",
      "metadata": {
        "id": "wTovuJ-0JrZC"
      },
      "source": [
        "#Getting the polarity of comments\n",
        "sentiment_polarity =[]\n",
        "for i in yt_comments[\"comment_text\"]:\n",
        "  sentiment_polarity.append(TextBlob(i).sentiment.polarity)"
      ],
      "execution_count": 10,
      "outputs": []
    },
    {
      "cell_type": "code",
      "metadata": {
        "id": "kz1SbMCHLMPV"
      },
      "source": [
        "# Adding the polarity list to my dataframe as a new column\n",
        "yt_comments['Polarity']=sentiment_polarity"
      ],
      "execution_count": 11,
      "outputs": []
    },
    {
      "cell_type": "markdown",
      "metadata": {
        "id": "-Ps5JkpVN79J"
      },
      "source": [
        "# Displaying the result ( DF with polarity )"
      ]
    },
    {
      "cell_type": "code",
      "metadata": {
        "colab": {
          "base_uri": "https://localhost:8080/",
          "height": 512
        },
        "id": "wQaIFBFfLjv1",
        "outputId": "81e5459a-2436-47cc-9771-5e815bf44ef5"
      },
      "source": [
        "#displaying the new dataframe\n",
        "yt_comments.head(10)"
      ],
      "execution_count": 12,
      "outputs": [
        {
          "output_type": "execute_result",
          "data": {
            "text/html": [
              "<div>\n",
              "<style scoped>\n",
              "    .dataframe tbody tr th:only-of-type {\n",
              "        vertical-align: middle;\n",
              "    }\n",
              "\n",
              "    .dataframe tbody tr th {\n",
              "        vertical-align: top;\n",
              "    }\n",
              "\n",
              "    .dataframe thead th {\n",
              "        text-align: right;\n",
              "    }\n",
              "</style>\n",
              "<table border=\"1\" class=\"dataframe\">\n",
              "  <thead>\n",
              "    <tr style=\"text-align: right;\">\n",
              "      <th></th>\n",
              "      <th>video_id</th>\n",
              "      <th>comment_text</th>\n",
              "      <th>likes</th>\n",
              "      <th>replies</th>\n",
              "      <th>Polarity</th>\n",
              "    </tr>\n",
              "  </thead>\n",
              "  <tbody>\n",
              "    <tr>\n",
              "      <th>0</th>\n",
              "      <td>jt2OHQh0HoQ</td>\n",
              "      <td>It's more accurate to call it the M+ (1000) be...</td>\n",
              "      <td>0.0</td>\n",
              "      <td>0.0</td>\n",
              "      <td>0.450000</td>\n",
              "    </tr>\n",
              "    <tr>\n",
              "      <th>1</th>\n",
              "      <td>jt2OHQh0HoQ</td>\n",
              "      <td>To be there with a samsung phone\\n😂😂😂</td>\n",
              "      <td>1.0</td>\n",
              "      <td>0.0</td>\n",
              "      <td>0.000000</td>\n",
              "    </tr>\n",
              "    <tr>\n",
              "      <th>2</th>\n",
              "      <td>jt2OHQh0HoQ</td>\n",
              "      <td>Thank gosh, a place I can watch it without hav...</td>\n",
              "      <td>0.0</td>\n",
              "      <td>0.0</td>\n",
              "      <td>0.000000</td>\n",
              "    </tr>\n",
              "    <tr>\n",
              "      <th>3</th>\n",
              "      <td>jt2OHQh0HoQ</td>\n",
              "      <td>What happened to the home button on the iPhone...</td>\n",
              "      <td>0.0</td>\n",
              "      <td>0.0</td>\n",
              "      <td>0.000000</td>\n",
              "    </tr>\n",
              "    <tr>\n",
              "      <th>4</th>\n",
              "      <td>jt2OHQh0HoQ</td>\n",
              "      <td>Power is the disease.  Care is the cure.  Keep...</td>\n",
              "      <td>0.0</td>\n",
              "      <td>0.0</td>\n",
              "      <td>1.000000</td>\n",
              "    </tr>\n",
              "    <tr>\n",
              "      <th>5</th>\n",
              "      <td>jt2OHQh0HoQ</td>\n",
              "      <td>Keep calm and buy iphone 8 Keep calm and buy i...</td>\n",
              "      <td>0.0</td>\n",
              "      <td>0.0</td>\n",
              "      <td>0.300000</td>\n",
              "    </tr>\n",
              "    <tr>\n",
              "      <th>6</th>\n",
              "      <td>jt2OHQh0HoQ</td>\n",
              "      <td>i am a big fan of youtube and u !!!!!!!!!!!!!</td>\n",
              "      <td>0.0</td>\n",
              "      <td>0.0</td>\n",
              "      <td>0.000000</td>\n",
              "    </tr>\n",
              "    <tr>\n",
              "      <th>7</th>\n",
              "      <td>jt2OHQh0HoQ</td>\n",
              "      <td>You will never find Losers who line up and pay...</td>\n",
              "      <td>0.0</td>\n",
              "      <td>0.0</td>\n",
              "      <td>-0.100000</td>\n",
              "    </tr>\n",
              "    <tr>\n",
              "      <th>8</th>\n",
              "      <td>jt2OHQh0HoQ</td>\n",
              "      <td>*APPLE JUST COMMENTED ON MY LAST VIDEO* I'm cr...</td>\n",
              "      <td>0.0</td>\n",
              "      <td>0.0</td>\n",
              "      <td>0.028571</td>\n",
              "    </tr>\n",
              "    <tr>\n",
              "      <th>9</th>\n",
              "      <td>jt2OHQh0HoQ</td>\n",
              "      <td>I'm only here to see Emma, I love her so much!...</td>\n",
              "      <td>0.0</td>\n",
              "      <td>0.0</td>\n",
              "      <td>0.500000</td>\n",
              "    </tr>\n",
              "  </tbody>\n",
              "</table>\n",
              "</div>"
            ],
            "text/plain": [
              "      video_id  ...  Polarity\n",
              "0  jt2OHQh0HoQ  ...  0.450000\n",
              "1  jt2OHQh0HoQ  ...  0.000000\n",
              "2  jt2OHQh0HoQ  ...  0.000000\n",
              "3  jt2OHQh0HoQ  ...  0.000000\n",
              "4  jt2OHQh0HoQ  ...  1.000000\n",
              "5  jt2OHQh0HoQ  ...  0.300000\n",
              "6  jt2OHQh0HoQ  ...  0.000000\n",
              "7  jt2OHQh0HoQ  ... -0.100000\n",
              "8  jt2OHQh0HoQ  ...  0.028571\n",
              "9  jt2OHQh0HoQ  ...  0.500000\n",
              "\n",
              "[10 rows x 5 columns]"
            ]
          },
          "metadata": {
            "tags": []
          },
          "execution_count": 12
        }
      ]
    },
    {
      "cell_type": "markdown",
      "metadata": {
        "id": "hHj4z7H4rG2Z"
      },
      "source": [
        "Filtering positives /negatives comments"
      ]
    },
    {
      "cell_type": "code",
      "metadata": {
        "id": "kjYOHZPWqEaZ"
      },
      "source": [
        "#Displaying just positive opinion\n",
        "positives_comments = yt_comments[yt_comments['Polarity']==1]"
      ],
      "execution_count": 13,
      "outputs": []
    },
    {
      "cell_type": "code",
      "metadata": {
        "colab": {
          "base_uri": "https://localhost:8080/"
        },
        "id": "B975eQUqrrGm",
        "outputId": "30bdb94d-c876-428c-fff3-553897ae3d22"
      },
      "source": [
        "positives_comments.shape # display how many lines & columns on positives data"
      ],
      "execution_count": 14,
      "outputs": [
        {
          "output_type": "execute_result",
          "data": {
            "text/plain": [
              "(1648, 5)"
            ]
          },
          "metadata": {
            "tags": []
          },
          "execution_count": 14
        }
      ]
    },
    {
      "cell_type": "code",
      "metadata": {
        "colab": {
          "base_uri": "https://localhost:8080/",
          "height": 255
        },
        "id": "vOmrJ-TFsHPc",
        "outputId": "742eb547-679d-45f4-937a-8001e119a5f4"
      },
      "source": [
        "positives_comments.head()"
      ],
      "execution_count": 15,
      "outputs": [
        {
          "output_type": "execute_result",
          "data": {
            "text/html": [
              "<div>\n",
              "<style scoped>\n",
              "    .dataframe tbody tr th:only-of-type {\n",
              "        vertical-align: middle;\n",
              "    }\n",
              "\n",
              "    .dataframe tbody tr th {\n",
              "        vertical-align: top;\n",
              "    }\n",
              "\n",
              "    .dataframe thead th {\n",
              "        text-align: right;\n",
              "    }\n",
              "</style>\n",
              "<table border=\"1\" class=\"dataframe\">\n",
              "  <thead>\n",
              "    <tr style=\"text-align: right;\">\n",
              "      <th></th>\n",
              "      <th>video_id</th>\n",
              "      <th>comment_text</th>\n",
              "      <th>likes</th>\n",
              "      <th>replies</th>\n",
              "      <th>Polarity</th>\n",
              "    </tr>\n",
              "  </thead>\n",
              "  <tbody>\n",
              "    <tr>\n",
              "      <th>4</th>\n",
              "      <td>jt2OHQh0HoQ</td>\n",
              "      <td>Power is the disease.  Care is the cure.  Keep...</td>\n",
              "      <td>0.0</td>\n",
              "      <td>0.0</td>\n",
              "      <td>1.0</td>\n",
              "    </tr>\n",
              "    <tr>\n",
              "      <th>26</th>\n",
              "      <td>jt2OHQh0HoQ</td>\n",
              "      <td>The best thing to ever happen to iPhone</td>\n",
              "      <td>0.0</td>\n",
              "      <td>2.0</td>\n",
              "      <td>1.0</td>\n",
              "    </tr>\n",
              "    <tr>\n",
              "      <th>80</th>\n",
              "      <td>jt2OHQh0HoQ</td>\n",
              "      <td>Apple is always awesome \\n\\nhttps://youtu.be/r...</td>\n",
              "      <td>0.0</td>\n",
              "      <td>1.0</td>\n",
              "      <td>1.0</td>\n",
              "    </tr>\n",
              "    <tr>\n",
              "      <th>158</th>\n",
              "      <td>YPVcg45W0z4</td>\n",
              "      <td>das a lot of edditing you have done there ... ...</td>\n",
              "      <td>0.0</td>\n",
              "      <td>0.0</td>\n",
              "      <td>1.0</td>\n",
              "    </tr>\n",
              "    <tr>\n",
              "      <th>175</th>\n",
              "      <td>YPVcg45W0z4</td>\n",
              "      <td>Welcome to the Scandiworld!</td>\n",
              "      <td>0.0</td>\n",
              "      <td>0.0</td>\n",
              "      <td>1.0</td>\n",
              "    </tr>\n",
              "  </tbody>\n",
              "</table>\n",
              "</div>"
            ],
            "text/plain": [
              "        video_id  ... Polarity\n",
              "4    jt2OHQh0HoQ  ...      1.0\n",
              "26   jt2OHQh0HoQ  ...      1.0\n",
              "80   jt2OHQh0HoQ  ...      1.0\n",
              "158  YPVcg45W0z4  ...      1.0\n",
              "175  YPVcg45W0z4  ...      1.0\n",
              "\n",
              "[5 rows x 5 columns]"
            ]
          },
          "metadata": {
            "tags": []
          },
          "execution_count": 15
        }
      ]
    }
  ]
}