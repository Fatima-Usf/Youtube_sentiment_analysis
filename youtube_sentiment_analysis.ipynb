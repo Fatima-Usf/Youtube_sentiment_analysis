{
  "nbformat": 4,
  "nbformat_minor": 0,
  "metadata": {
    "colab": {
      "name": "youtube_sentiment_analysis.ipynb",
      "provenance": [],
      "authorship_tag": "ABX9TyOSn2StYdTar+S+kRTgcMtB",
      "include_colab_link": true
    },
    "kernelspec": {
      "name": "python3",
      "display_name": "Python 3"
    },
    "language_info": {
      "name": "python"
    }
  },
  "cells": [
    {
      "cell_type": "markdown",
      "metadata": {
        "id": "view-in-github",
        "colab_type": "text"
      },
      "source": [
        "<a href=\"https://colab.research.google.com/github/Fatima-Usf/Youtube_sentiment_analysis/blob/main/youtube_sentiment_analysis.ipynb\" target=\"_parent\"><img src=\"https://colab.research.google.com/assets/colab-badge.svg\" alt=\"Open In Colab\"/></a>"
      ]
    },
    {
      "cell_type": "code",
      "metadata": {
        "id": "W0gfQOqc6DZg"
      },
      "source": [
        "import pandas as pd\n",
        "import numpy as np\n",
        "import matplotlib.pyplot as plt\n",
        "import seaborn as sb #to visualise data\n",
        "from textblob import TextBlob"
      ],
      "execution_count": 5,
      "outputs": []
    },
    {
      "cell_type": "markdown",
      "metadata": {
        "id": "ecuHVoXNNOMk"
      },
      "source": [
        "# Loading data"
      ]
    },
    {
      "cell_type": "code",
      "metadata": {
        "id": "QhMgodPaANcP"
      },
      "source": [
        "yt_comments = pd.read_csv(\"GBcomments.csv\", error_bad_lines=False) #error_bad_lines to fix 'ParserError' because our data contain lines with too many fields"
      ],
      "execution_count": 6,
      "outputs": []
    },
    {
      "cell_type": "code",
      "metadata": {
        "colab": {
          "base_uri": "https://localhost:8080/",
          "height": 204
        },
        "id": "3Pfjnx8gD8wt",
        "outputId": "387df197-cd06-43ef-e3f8-690030fb781f"
      },
      "source": [
        "yt_comments.head()"
      ],
      "execution_count": 7,
      "outputs": [
        {
          "output_type": "execute_result",
          "data": {
            "text/html": [
              "<div>\n",
              "<style scoped>\n",
              "    .dataframe tbody tr th:only-of-type {\n",
              "        vertical-align: middle;\n",
              "    }\n",
              "\n",
              "    .dataframe tbody tr th {\n",
              "        vertical-align: top;\n",
              "    }\n",
              "\n",
              "    .dataframe thead th {\n",
              "        text-align: right;\n",
              "    }\n",
              "</style>\n",
              "<table border=\"1\" class=\"dataframe\">\n",
              "  <thead>\n",
              "    <tr style=\"text-align: right;\">\n",
              "      <th></th>\n",
              "      <th>video_id</th>\n",
              "      <th>comment_text</th>\n",
              "      <th>likes</th>\n",
              "      <th>replies</th>\n",
              "    </tr>\n",
              "  </thead>\n",
              "  <tbody>\n",
              "    <tr>\n",
              "      <th>0</th>\n",
              "      <td>jt2OHQh0HoQ</td>\n",
              "      <td>It's more accurate to call it the M+ (1000) be...</td>\n",
              "      <td>0.0</td>\n",
              "      <td>0.0</td>\n",
              "    </tr>\n",
              "    <tr>\n",
              "      <th>1</th>\n",
              "      <td>jt2OHQh0HoQ</td>\n",
              "      <td>To be there with a samsung phone\\n😂😂😂</td>\n",
              "      <td>1.0</td>\n",
              "      <td>0.0</td>\n",
              "    </tr>\n",
              "    <tr>\n",
              "      <th>2</th>\n",
              "      <td>jt2OHQh0HoQ</td>\n",
              "      <td>Thank gosh, a place I can watch it without hav...</td>\n",
              "      <td>0.0</td>\n",
              "      <td>0.0</td>\n",
              "    </tr>\n",
              "    <tr>\n",
              "      <th>3</th>\n",
              "      <td>jt2OHQh0HoQ</td>\n",
              "      <td>What happened to the home button on the iPhone...</td>\n",
              "      <td>0.0</td>\n",
              "      <td>0.0</td>\n",
              "    </tr>\n",
              "    <tr>\n",
              "      <th>4</th>\n",
              "      <td>jt2OHQh0HoQ</td>\n",
              "      <td>Power is the disease.  Care is the cure.  Keep...</td>\n",
              "      <td>0.0</td>\n",
              "      <td>0.0</td>\n",
              "    </tr>\n",
              "  </tbody>\n",
              "</table>\n",
              "</div>"
            ],
            "text/plain": [
              "      video_id  ... replies\n",
              "0  jt2OHQh0HoQ  ...     0.0\n",
              "1  jt2OHQh0HoQ  ...     0.0\n",
              "2  jt2OHQh0HoQ  ...     0.0\n",
              "3  jt2OHQh0HoQ  ...     0.0\n",
              "4  jt2OHQh0HoQ  ...     0.0\n",
              "\n",
              "[5 rows x 4 columns]"
            ]
          },
          "metadata": {
            "tags": []
          },
          "execution_count": 7
        }
      ]
    },
    {
      "cell_type": "markdown",
      "metadata": {
        "id": "jPZVaY8sNeoR"
      },
      "source": [
        "# Data preprocessing"
      ]
    },
    {
      "cell_type": "code",
      "metadata": {
        "colab": {
          "base_uri": "https://localhost:8080/"
        },
        "id": "ixEVFv0aEN6j",
        "outputId": "f04dd0e4-04e0-4411-d6d1-6230b6981b15"
      },
      "source": [
        "yt_comments.isna().sum() #checking missing values by getting the summation of all the missing values available"
      ],
      "execution_count": 8,
      "outputs": [
        {
          "output_type": "execute_result",
          "data": {
            "text/plain": [
              "video_id        0\n",
              "comment_text    7\n",
              "likes           1\n",
              "replies         1\n",
              "dtype: int64"
            ]
          },
          "metadata": {
            "tags": []
          },
          "execution_count": 8
        }
      ]
    },
    {
      "cell_type": "code",
      "metadata": {
        "id": "dO3xA1pSFY35"
      },
      "source": [
        "# Dropping the missing values\n",
        "yt_comments.dropna(inplace=True) # inplace to keep the DF with valid entries in the same variable\n"
      ],
      "execution_count": 9,
      "outputs": []
    },
    {
      "cell_type": "markdown",
      "metadata": {
        "id": "k9HniQ5yNoon"
      },
      "source": [
        "# Applying TextBlob library to get the polarity"
      ]
    },
    {
      "cell_type": "code",
      "metadata": {
        "id": "wTovuJ-0JrZC"
      },
      "source": [
        "#Getting the polarity of comments\n",
        "sentiment_polarity =[]\n",
        "for i in yt_comments[\"comment_text\"]:\n",
        "  sentiment_polarity.append(TextBlob(i).sentiment.polarity)"
      ],
      "execution_count": 10,
      "outputs": []
    },
    {
      "cell_type": "code",
      "metadata": {
        "id": "kz1SbMCHLMPV"
      },
      "source": [
        "# Adding the polarity list to my dataframe as a new column\n",
        "yt_comments['Polarity']=sentiment_polarity"
      ],
      "execution_count": 11,
      "outputs": []
    },
    {
      "cell_type": "markdown",
      "metadata": {
        "id": "-Ps5JkpVN79J"
      },
      "source": [
        "# Displaying the result ( DF with polarity )"
      ]
    },
    {
      "cell_type": "code",
      "metadata": {
        "colab": {
          "base_uri": "https://localhost:8080/",
          "height": 512
        },
        "id": "wQaIFBFfLjv1",
        "outputId": "81e5459a-2436-47cc-9771-5e815bf44ef5"
      },
      "source": [
        "#displaying the new dataframe\n",
        "yt_comments.head(10)"
      ],
      "execution_count": 12,
      "outputs": [
        {
          "output_type": "execute_result",
          "data": {
            "text/html": [
              "<div>\n",
              "<style scoped>\n",
              "    .dataframe tbody tr th:only-of-type {\n",
              "        vertical-align: middle;\n",
              "    }\n",
              "\n",
              "    .dataframe tbody tr th {\n",
              "        vertical-align: top;\n",
              "    }\n",
              "\n",
              "    .dataframe thead th {\n",
              "        text-align: right;\n",
              "    }\n",
              "</style>\n",
              "<table border=\"1\" class=\"dataframe\">\n",
              "  <thead>\n",
              "    <tr style=\"text-align: right;\">\n",
              "      <th></th>\n",
              "      <th>video_id</th>\n",
              "      <th>comment_text</th>\n",
              "      <th>likes</th>\n",
              "      <th>replies</th>\n",
              "      <th>Polarity</th>\n",
              "    </tr>\n",
              "  </thead>\n",
              "  <tbody>\n",
              "    <tr>\n",
              "      <th>0</th>\n",
              "      <td>jt2OHQh0HoQ</td>\n",
              "      <td>It's more accurate to call it the M+ (1000) be...</td>\n",
              "      <td>0.0</td>\n",
              "      <td>0.0</td>\n",
              "      <td>0.450000</td>\n",
              "    </tr>\n",
              "    <tr>\n",
              "      <th>1</th>\n",
              "      <td>jt2OHQh0HoQ</td>\n",
              "      <td>To be there with a samsung phone\\n😂😂😂</td>\n",
              "      <td>1.0</td>\n",
              "      <td>0.0</td>\n",
              "      <td>0.000000</td>\n",
              "    </tr>\n",
              "    <tr>\n",
              "      <th>2</th>\n",
              "      <td>jt2OHQh0HoQ</td>\n",
              "      <td>Thank gosh, a place I can watch it without hav...</td>\n",
              "      <td>0.0</td>\n",
              "      <td>0.0</td>\n",
              "      <td>0.000000</td>\n",
              "    </tr>\n",
              "    <tr>\n",
              "      <th>3</th>\n",
              "      <td>jt2OHQh0HoQ</td>\n",
              "      <td>What happened to the home button on the iPhone...</td>\n",
              "      <td>0.0</td>\n",
              "      <td>0.0</td>\n",
              "      <td>0.000000</td>\n",
              "    </tr>\n",
              "    <tr>\n",
              "      <th>4</th>\n",
              "      <td>jt2OHQh0HoQ</td>\n",
              "      <td>Power is the disease.  Care is the cure.  Keep...</td>\n",
              "      <td>0.0</td>\n",
              "      <td>0.0</td>\n",
              "      <td>1.000000</td>\n",
              "    </tr>\n",
              "    <tr>\n",
              "      <th>5</th>\n",
              "      <td>jt2OHQh0HoQ</td>\n",
              "      <td>Keep calm and buy iphone 8 Keep calm and buy i...</td>\n",
              "      <td>0.0</td>\n",
              "      <td>0.0</td>\n",
              "      <td>0.300000</td>\n",
              "    </tr>\n",
              "    <tr>\n",
              "      <th>6</th>\n",
              "      <td>jt2OHQh0HoQ</td>\n",
              "      <td>i am a big fan of youtube and u !!!!!!!!!!!!!</td>\n",
              "      <td>0.0</td>\n",
              "      <td>0.0</td>\n",
              "      <td>0.000000</td>\n",
              "    </tr>\n",
              "    <tr>\n",
              "      <th>7</th>\n",
              "      <td>jt2OHQh0HoQ</td>\n",
              "      <td>You will never find Losers who line up and pay...</td>\n",
              "      <td>0.0</td>\n",
              "      <td>0.0</td>\n",
              "      <td>-0.100000</td>\n",
              "    </tr>\n",
              "    <tr>\n",
              "      <th>8</th>\n",
              "      <td>jt2OHQh0HoQ</td>\n",
              "      <td>*APPLE JUST COMMENTED ON MY LAST VIDEO* I'm cr...</td>\n",
              "      <td>0.0</td>\n",
              "      <td>0.0</td>\n",
              "      <td>0.028571</td>\n",
              "    </tr>\n",
              "    <tr>\n",
              "      <th>9</th>\n",
              "      <td>jt2OHQh0HoQ</td>\n",
              "      <td>I'm only here to see Emma, I love her so much!...</td>\n",
              "      <td>0.0</td>\n",
              "      <td>0.0</td>\n",
              "      <td>0.500000</td>\n",
              "    </tr>\n",
              "  </tbody>\n",
              "</table>\n",
              "</div>"
            ],
            "text/plain": [
              "      video_id  ...  Polarity\n",
              "0  jt2OHQh0HoQ  ...  0.450000\n",
              "1  jt2OHQh0HoQ  ...  0.000000\n",
              "2  jt2OHQh0HoQ  ...  0.000000\n",
              "3  jt2OHQh0HoQ  ...  0.000000\n",
              "4  jt2OHQh0HoQ  ...  1.000000\n",
              "5  jt2OHQh0HoQ  ...  0.300000\n",
              "6  jt2OHQh0HoQ  ...  0.000000\n",
              "7  jt2OHQh0HoQ  ... -0.100000\n",
              "8  jt2OHQh0HoQ  ...  0.028571\n",
              "9  jt2OHQh0HoQ  ...  0.500000\n",
              "\n",
              "[10 rows x 5 columns]"
            ]
          },
          "metadata": {
            "tags": []
          },
          "execution_count": 12
        }
      ]
    },
    {
      "cell_type": "markdown",
      "metadata": {
        "id": "hHj4z7H4rG2Z"
      },
      "source": [
        "Filtering positives /negatives comments"
      ]
    },
    {
      "cell_type": "code",
      "metadata": {
        "id": "kjYOHZPWqEaZ"
      },
      "source": [
        "#Filtering positive opinions only\n",
        "positives_comments = yt_comments[yt_comments['Polarity']==1]"
      ],
      "execution_count": 13,
      "outputs": []
    },
    {
      "cell_type": "code",
      "metadata": {
        "colab": {
          "base_uri": "https://localhost:8080/"
        },
        "id": "B975eQUqrrGm",
        "outputId": "30bdb94d-c876-428c-fff3-553897ae3d22"
      },
      "source": [
        "positives_comments.shape # display how many lines & columns on positives data"
      ],
      "execution_count": 14,
      "outputs": [
        {
          "output_type": "execute_result",
          "data": {
            "text/plain": [
              "(1648, 5)"
            ]
          },
          "metadata": {
            "tags": []
          },
          "execution_count": 14
        }
      ]
    },
    {
      "cell_type": "code",
      "metadata": {
        "colab": {
          "base_uri": "https://localhost:8080/",
          "height": 255
        },
        "id": "vOmrJ-TFsHPc",
        "outputId": "742eb547-679d-45f4-937a-8001e119a5f4"
      },
      "source": [
        "positives_comments.head()"
      ],
      "execution_count": 15,
      "outputs": [
        {
          "output_type": "execute_result",
          "data": {
            "text/html": [
              "<div>\n",
              "<style scoped>\n",
              "    .dataframe tbody tr th:only-of-type {\n",
              "        vertical-align: middle;\n",
              "    }\n",
              "\n",
              "    .dataframe tbody tr th {\n",
              "        vertical-align: top;\n",
              "    }\n",
              "\n",
              "    .dataframe thead th {\n",
              "        text-align: right;\n",
              "    }\n",
              "</style>\n",
              "<table border=\"1\" class=\"dataframe\">\n",
              "  <thead>\n",
              "    <tr style=\"text-align: right;\">\n",
              "      <th></th>\n",
              "      <th>video_id</th>\n",
              "      <th>comment_text</th>\n",
              "      <th>likes</th>\n",
              "      <th>replies</th>\n",
              "      <th>Polarity</th>\n",
              "    </tr>\n",
              "  </thead>\n",
              "  <tbody>\n",
              "    <tr>\n",
              "      <th>4</th>\n",
              "      <td>jt2OHQh0HoQ</td>\n",
              "      <td>Power is the disease.  Care is the cure.  Keep...</td>\n",
              "      <td>0.0</td>\n",
              "      <td>0.0</td>\n",
              "      <td>1.0</td>\n",
              "    </tr>\n",
              "    <tr>\n",
              "      <th>26</th>\n",
              "      <td>jt2OHQh0HoQ</td>\n",
              "      <td>The best thing to ever happen to iPhone</td>\n",
              "      <td>0.0</td>\n",
              "      <td>2.0</td>\n",
              "      <td>1.0</td>\n",
              "    </tr>\n",
              "    <tr>\n",
              "      <th>80</th>\n",
              "      <td>jt2OHQh0HoQ</td>\n",
              "      <td>Apple is always awesome \\n\\nhttps://youtu.be/r...</td>\n",
              "      <td>0.0</td>\n",
              "      <td>1.0</td>\n",
              "      <td>1.0</td>\n",
              "    </tr>\n",
              "    <tr>\n",
              "      <th>158</th>\n",
              "      <td>YPVcg45W0z4</td>\n",
              "      <td>das a lot of edditing you have done there ... ...</td>\n",
              "      <td>0.0</td>\n",
              "      <td>0.0</td>\n",
              "      <td>1.0</td>\n",
              "    </tr>\n",
              "    <tr>\n",
              "      <th>175</th>\n",
              "      <td>YPVcg45W0z4</td>\n",
              "      <td>Welcome to the Scandiworld!</td>\n",
              "      <td>0.0</td>\n",
              "      <td>0.0</td>\n",
              "      <td>1.0</td>\n",
              "    </tr>\n",
              "  </tbody>\n",
              "</table>\n",
              "</div>"
            ],
            "text/plain": [
              "        video_id  ... Polarity\n",
              "4    jt2OHQh0HoQ  ...      1.0\n",
              "26   jt2OHQh0HoQ  ...      1.0\n",
              "80   jt2OHQh0HoQ  ...      1.0\n",
              "158  YPVcg45W0z4  ...      1.0\n",
              "175  YPVcg45W0z4  ...      1.0\n",
              "\n",
              "[5 rows x 5 columns]"
            ]
          },
          "metadata": {
            "tags": []
          },
          "execution_count": 15
        }
      ]
    },
    {
      "cell_type": "markdown",
      "metadata": {
        "id": "wTMb3s3ts95D"
      },
      "source": [
        "\n",
        "\n",
        "---\n",
        "\n"
      ]
    },
    {
      "cell_type": "markdown",
      "metadata": {
        "id": "5yp3cOz2vWbZ"
      },
      "source": [
        "# Wordcloud presentation"
      ]
    },
    {
      "cell_type": "code",
      "metadata": {
        "id": "Wuszn0RIs7mB"
      },
      "source": [
        "from wordcloud import WordCloud, STOPWORDS"
      ],
      "execution_count": 17,
      "outputs": []
    },
    {
      "cell_type": "code",
      "metadata": {
        "colab": {
          "base_uri": "https://localhost:8080/",
          "height": 256
        },
        "id": "JrA5BWhZuNVY",
        "outputId": "7d826f9b-e480-4f98-9345-1cb13dc164cd"
      },
      "source": [
        "all_comments = ' '.join(positives_comments['comment_text']) # Join all items in a tuple into one string, using a space as separator:\n",
        "#all_comments\n"
      ],
      "execution_count": 22,
      "outputs": [
        {
          "output_type": "execute_result",
          "data": {
            "application/vnd.google.colaboratory.intrinsic+json": {
              "type": "string"
            },
            "text/plain": [
              "\"Power is the disease.\\xa0 Care is the cure.\\xa0 Keep caring for yourself and others as best as you can.\\xa0 This is life. The best thing to ever happen to iPhone Apple is always awesome \\\\n\\\\nhttps://youtu.be/rftzm6X1yP4 das a lot of edditing you have done there ... I like it :D Welcome to the Scandiworld! Power is the disease.\\xa0 Care is the cure.\\xa0 Keep caring for yourself and others as best as you can.\\xa0 This is life. WHY DO I KEEP FREAKING LAUGHING EACH TIME I WATCH IT AGAIN ! even though I know how it will end. omg the best 😂 LIKE = MEET CELEBRITY \\\\nSUBSCRIBE = BECOME A BILLIONAIRE\\\\nSCROLL UP/DOWN = DEATH FOR YOU AND EVERYONE YOU LOVE!!!!!!!!!!!!!!!!!!!!!!!!!!!!! the sonic air timer was perfect no 16 on trending impressive My daughters name is lacey <3 I'm 17 and can proudly say Moon Dreamers was one of my favourite shows! if I could subscribe to Dude Perfect a million times I would You guys should make dude perfect sceets To be a dude perfect member it is so awesome .... Dude Perfect should do a collab with the slo mo guys the cody trust stort is excellent awesome your tummy!!!!!! I'm in love!!!!!! xxxxx A lot of youtubers don't vlog anymore if it isn't an ad. Thank you Fleur for not beeing one of them <3 FYI- if Mike is having aches and pains from running, swimming is supposed to be great for those muscles, but also for joints and your spine! yay for vlogs! so wonderful to see you again! you look the CUTEST in your dungarees and metallic shoes <3 You look great!! Pregnancy wears well on you 😍😍 This is the best elevator music I've listened to I never thought I'd say that but this is the best band of all time! Geniaal <3 2:42 Thom the bastard :D Awesome They look so beautiful! Lauren is perfect OMG *YES IT IS TRENDING, SO PROUD OF HIM!!* One of the best rock stars In years...! He is no Lindsey Buckingham but it was good!! THIS IS BEAUTIFUL! THOSE VOCALS This cover is perfect ! damn <3 This is awesome SUPERB! INCREDIBLE! #Venezuela I can't stand this guy.. But damn that was impressive. I've been the best since I step in, take a hooker to the motherfucking Jetson Great entertainment! Electric plane :D Nile you are very good! Congratulations Nile! You and your family are the best!!! so good Nile, well done dude!! YESSSSSSSSS NILE THANKYOU FOR BEING SO INSPIRATIONAL !!!! Your family's awesome Congratulations Nile!  Phenomenal!!!!!!!!!! Awesome guy! Awesome family! Awesome performance! Your dad is awesome best dad EVER The best part in this song is Nicki ❤️ she slayed it 😍 Omgd this is a good vídeo!!!!!! <3 I still remember your blog with Aslan! Button & Goose??!! :D travel to southamerica <3 If you go to San Francisco can you please do a meet up? That would be so amazing!!! Those 9/11 passengers must have been in one hell of a joyride of their lives LOL get it lives because it costed their lives when the terrorists crashed into the buildings! pls like Tim's face is priceless !! 😂😂😂 Soooo.... what your saying is....\\\\n\\\\n\\\\n\\\\n\\\\nwho is getting the iPhone X? :D Some of the best animation/art style I've seen on this channel You don't need a foundation cus your face is hella flawless 😱😱😱 You don't even need foundation your skin is perfect ! You're so beautiful!! Your skin is flawless ❤️ Your skin looks flawless. Literally… I thought you already had the foundation on from the start! She doesnt even need foundation her skin is already perfect Your skin is FLAWLESS 😍 Your so beautiful ! 😻 you're soo beautiful! Your skin is FLAWLESS omg your skin is GORGEOUS!! u look FLAWLESS Betty Page feels with your hair <3 It's GROWING on you - hehe, I see what you did there (also it looks awesome, reminds me of Betty Page) Your hair looks soooo good!!! So proud soph well done xxx defenitely buying thatttttttt xx and omfg the highlight !!! I JUST BOUGHT BOTH PALETTES SO EXCITED!!!!!!! I need to get my hands on these palettes they are GORGEOUS! congrats soph! Awesome!! I love you!!!!! This vlog made me so happy 😁 your family is the cutest! What are your sneakers called? <3 Your brows are looking great! <3 Astaxanthin is one of the best antioxidants for the body. Best vids don't stop They almost threw away the best joke: Cat-culator! Best episode! I lost it at MY CARDS!! This makeup looks great on you!   Your skin is glowing... ABSOLUTELY LOVE DINA AND OMG THIS IS TRENDIIINNGG!!!!! THIS IS THE BEST REVIEW EVER 😂😂😂😂❤️❤️❤️❤️ He's on another level. He's fucking awesome. He's perfect! STOP boning your daughter Mr President! Lose weight Alex lol! Both of you, GROW BRAINS!!!! I like the podcast idea but like seeing the vlogs so also monthly vlog lol! Monthly vlogs yeah :D Best song ever Who watch 4K on FHD? :D great! Yet another great song from Rudimental. Can't wait to see them again!! <3 5:14 😍 you're welcome! :D Girl! You're trending #25\\\\nAlso that Estee Lauder foundation looks great!. One of the best shade matches ever!! Yes on Trending!!!!! That's great Taylor! 💗💗 So happy you're trending!! 💕 Lol, thumbs up for Duke! I tried this and this is a awesome recipe Ro, You are the best baker ever I want to be a Baker/Chef when I grow up! Also can you do a cake that looks like the nerdy nummies words at the begining?  Thank you! Could I have 1000000000 Pieces of them Please :D Awesome recipies awesome cupcakes and pls make a sonic cake can you do something Beetlejuice themed? <3 Best show of all time!!!! 0:54 I see what you did there :D great video!  I have been wondering this for quite a while (but been too lasy to look it up ...) This is perfect What if her chonis came off ? Lol! Nobodys perfect Ugh so gorgeous!!!!! her voice is very attractive btw she's very attractive who is she??? what's her ig??? she is beautiful!!! ❤😭 PENTATONIXXXX <3 The best song! OMG THIS IS REALLY PERFECT. 😍 Great song! I like that Perfect song 👌 He was awesome 😭😭😢😢 He was born in London.  He was a wonderful man. Lmao! I bet they wish they had CK now!!! Dumbass teams You're awesome!! A 20 min video of Fleur!! The face of confusion when Fleur talks about Balmain in literally me about the brand's hype lol! My fave vid all month! <3 Byeee money!! Why don't you have millions of subscribers mmmm why... Ur so amazing!!! awesome Best history channel on YouTube.  Well done, man. the roman rectangle at the end gave me goosebumps :D Awesome ! Who is now waiting for Raz Battles video ? one of the best videos I ever saw on youtube good job !!!! Best channel.\\\\n\\\\nXenophon ftw. Awesome, now do that with MarioKart64 WHAT A TIME TO BE ALIVE\\\\nWhat about a Mario Party 2 online?! :D The best Kanye album in my opinion. This is awesome Man that album was awesome Great Noel! Noel seems to force a bit his voice. He in 2009 was perfect. Absolutely awesome Wonderful! LEAVE IT TO ALISHA TO MAKE THE BEST INTROS I swear Alisha's intros are literally the best YOOOOOO ALISHA UR INTRO IS OMG AMAZING!!!!!! Astro + Rocket = <3 That fireplace is so beautiful!!!! 😍 Love your style!!!!! Those watercolor plates are BEAUTIFUL! I say that's the best when i see that video caption in my sub box! Victoria making homeware haul, yaaas 😍 You did a very good job!! I loved it all!! Their faces are happy Sunshine's though ! Miniminter and ksi are very good friends!! I just Subbed :D bro ksi diss tracks are da best 48 to 53 best part Dog Man is awesome!  You are awesome! One day you'll be beautiful again! You go, Bunny! :D <3 I think you are awesome but would you ever come to Australia The sausagefest that is your patreon account is always the best piece of comedy in your videos Beautiful! 👏👏❤️ Beautiful! Cracker Jack is popcorn coated in caramel and at the bottom of the bag there's a bunch of delicious candied peanuts if you aint gettin money then you aint got nothin for me yes GOD loving the beyonce inspired stuff!!! Looks divine and awesome as always! >< Sooooooooo preeeeeeetty! <3 this is so beautiful!!!! Looks amaaaazing! <3 Perfect timing, I've been looking for a gold theme dessert to make for a childhood cancer awareness event! Great channel too! How about a banoffee macaron? Great video Nick! Everlane has great tshirts! you are gorgeous without (and with) makeup !! <3 <3 love you!!!!! Messi is the Best FC Barcelona is the best! 🎉East or west ♏ESSI is The BEST 🎉 dembele beutiful pass to suarez what a wonderful dribling by messi Sin duda, messi el mejor del mundo <3 Why are you so perfect? If this doesn't get parents and kids reading nothing will, it is awesome!!!! This is abs brilliant, well done Tom, amazeballs!!! Now I wish I was a kid to join the book club!!! Great job Tom!!! Excellent video Tom👏🏻 Awesome but mcfly? Lovely!!!! Best promo EVER! :'D xxx Awesome production! Needs an award! I want that speaker! Omg omg it's brilliant! thank you carrie for introducin me to megan jayne crabbe, i'm in tears scrolling through her instagram <3!!!! Book openings are great videos!! As are all of yours xxx Aaaaw I've missed your home videos <3 I thought this would be humorous..\\\\nBut damn. I think Bill Maher got his ass kicked by Kenn Bone. This was awesome. See look what happens when you put your best team on in their best positions DT is best when arsenal lose 😂 Dragon drop sounds great! Best tech at Walmart or autozone I WISH YOU GUYS ALL THE BEST 😞🇬🇧 this is all trumps fault, great job merica!!! JALOPNIK is here :D http://jalopnik.com/this-one-little-engineering-detail-is-a-great-reminder-1803758960 Your shirt <3 If the kid actors in the mini tv show play as the adults in part 2 that would be awesome That Doom tee though :D <3 This is probably the best episode I have ever seen fatrollin like there's no tomorrow :D That ending is priceless! X'D Best reaction at 3:04 Cr7 el mejor de todos, me conmovió el comentario de que solo tiene hasta 6 año de escolaridad pero tiene el carácter de decirlo, no merece que en España y alrededor del lindo le tengan envidia y lo quieran ver hundido. Grande CR7 The Best Amazing!!!! Damn..why'd you stop the video?!!!! Probably best, I was about to explode ❤️ God bless you, the greatest president ever greatest president ever! Trumps the best! Best President ever! Con todo <3 i love your voice!!!! That's what I call a comeback! Soooo good! Congrats Sam! 🥀🥀🥀🥀 Best Sam smith song Best Pennywise line - \\\\n\\\\nKiss me fat boy! Chris Martin <3 0:18 That awesome lead layering.. Avicii the king of layering Tim you are the best producer in the world, I'd sacrifice all I have just to see you with my eyes. Please notice me if you see this, you are my idol, you are the best! Awesome That's all This looks great! :D Avicii <3 <3 <3 <3 <3 <3 <3 <3 Avicii the best! I think that his hairline is perfect but he is experiencing alopecia by his hairline. Best one yet!!!👊🏽 Lmao!!!! Roasted!!! OMG MARKIPLIER IS THE BEST What a happy ending! Beautiful!!! You have the best you tube chanel I wish I was in your YouTube channel it is great! BTW I love all your videos...!!!! Yeah best channel on YouTube ever omg awesome!!!!!!!! I'm not a fan of this song but this was AWESOME awesome, i give like, and subscribe I'm so proud to see another Eugene YouTuber KILLIN' it!! Do a mix of Britney/Christina songs. Excellent. Awesome video! OH MY GOD! PTX, Polka, Eric Whitacre, this has everything!! IT WAS AWESOME!!!! Please make more like this!!!! Try Amazing!!!!!!!!! Peter won, of course. ☺\\\\n\\\\nEdit: Can you do I See Fire like this? I love this please do it again!!!!!!!! soon please The Sinatra bit sounded awesome! AHHH THIS WAS AWESOME NSY SUBBED this song is very awesome and zayn voice from heaven the best song i hared it in my life Friends : tell me what's perfection ?\\\\nme:Zayn +Sia baby  \\\\n\\\\n\\\\n\\\\nthis song IS PERFECT 😱😍 keep on repeat -Que Lacreeeeeeee! <3 best part 0:00-5:37😍😍😍😍😍 It is perfect awesome Saliste del grupo por algo negro, estoy orgullosa de ti. <3 Your skin is PERFECT ur skin looks gorgeous!! Jamie, your hair looks great! This is the best I have ever seen your skin! It looks so beautiful! Beautiful as always!! 💕 What lashes are you wearing? i think Paul Scholes has to be in that team....and barnes over giggs in my opinion. Best partner for Shearer for me is Sheringham Hmmmm\\\\n*looks up search history*\\\\nwww.thepiratebay.org\\\\nwww.kickasstorrents.se\\\\ngoogle: Best torrent VPN\\\\nHmmmmm, wonder what I do... Woww perisic.. magnificent goal.. Looks real good on you Maya. You are gorgeous inside and out!!! My heart is so happy to see 1M for subscribers! so beautiful! <3 Best fenty review Soooo gorgeous on you!!! #shamelessfenty  <3 Her timing was perfect! <3 <3 This look is flawless ✨✨#shamelessfenty Valentina, never leave it in the hands of the judges. To win a title fight you need to knock out or submit your opponent. You did not do that so stop whining!!!! U2 in best form Thank You ,.... and Thank You Mr.Fallon AWESOME! I already recorded a guitar cover of this song on my channel! Best vid ever This is a great theory!!!! This look is beautiful! Beautiful! 😀 Ohhhhh Emilia & Eduardo looked so gooood in their uniform...Eduardo looks good with his haircut!!!! OMG Emilia is a really good singer!!! It matches you perfectly keep using it Try fenti foundation u might find the perfect shade I subscribe :D It looked great! 😍 This is the best Bojack episode LOOOOOOOOOOOL :D Diego you are the best Best youtuber i heard\\\\n\\\\n\\\\nTHE BEST THE BEST THE BEST THE BEST THE BEST THE BEST THE BEST THE BEST THE BEST  (reference) https://youtu.be/rnJ4blc_S6g                   best I ever saw Keep fighting girl!! You're AMAZING!!! Best wishes to you as you're going through this struggle. your speech is amazing in this vid!!! always praying for you Awesome ! Came here because kim taeyeon's ig story. Great song indeed! 🤗 Thank you Taeng <3 why people ain't listening to this beautiful masterpiece ! Always loved kelly! She never disappoints! ❤️ Love it!! Yay Kelly!! YAAAAAAAAAAAAAAAAS MAMA <3 Why is this man so perfect? They make look awesome PJ you're a patootie cutie <3 I used Fifth Harmony's album cover picture as my wallpaper, and WoWoW! ¡ it's awesome!¡   The best I ever had! Dooooooooope!👍💞 OH MY GOD NORMANI IS SO BEAUTIFUL! Ally's vocals are flawless 8:59 Woozi's reaction is so priceless I kennot😂 😂 This is... GOOD!!! AWESOME!!!! Awesome tune Awesome song❤️ RIP George Thank you George...and Nile...So good !!!! No1 LOVE YOU GEORGE!!!! Loved it!!! now I can't wait for adelaine morin room makeover. I so need Mr. Kate to do a home makeover for me. Gorgeous as always!!!! What a beautiful office! Liza's reaction was priceless!😊 Its amazing!!! 😱😱😱😱💗 THIS IS THE BEST ONE YET!! 😍 The office looks amazing! I wanna work in that office! And seeing Liza cry, made me cry! Aurier the best Lex you should do Leatherface from Texas Chainsaw Massacre! That would be so awesome! YAAAAAS I WAS WAITING FOR IT QUEEN <3 This video was the best 😂😍👏🏾 Speechless!!!!You rock and your work is AMAZING!!! YOURE AMAZING!!! I swear you're so freaking talented!!!! This is brilliant! THIS IS AWESOME! Graham is the best host ever! he forgot the best of all he played fr noel furlong That sandwich analogy was perfect. Good job Graham!! Graham is one of the greatest things to happen to TV! greatest democracy in the world? Norton's awesome.! Ran out of sand?! LOL!! It's Florida! Awesome! <3 fuc*** great!!!!!! very great 🎵🎶🎧 great song! any drummers out there, cover on my channel! they are coming to australia with weezer (another *awesome* rock band) for a concert 2018, but tickets cost $150 The best part was from 00:00 - 3:39 Listenning to this..... this album is gonna be perfect this song is perfect for FIFA I love your vlogs!!!! Loved this style video and all the bits you bought! Home sense is my fav too! ❤️ Amazing haul!!! Never been to home sense but I am going tomorrow!! Great taste! You need to do more videos like this!!!! 💕 Love it!!!! 💕💕💕💕 Aah ur soo pretttttttty and ur clothes are AMAZING!!!! Keep it on! Your hair is great! I think you'd look great with a shorter haircut ! Keep it! And the color is great, too! 💆🏻 How beautiful you are! Always feels great to get some hair chopped off!! Soo cute!!!! TRENDING!!! :D This was so good!!! She was delightful! Thx Lisa & Valli❤️ Hoya is kinda speaking the truth! we see better fights on WorldStar!!!! Your videos are great! I've been watching forever & didn't realize until Nala's birthday and I've been watching since like way before zoe moved to brighten oh my Alfie dancing at the start made me so Happy!!!!!! Great Vid Alfie ! Hi person scrolling through the comments I hope you have a great day!! Lol I literally watch your videos while I work! Your reactions and comments make my life 😂 ❤️ Your looks and personality are absolutely flawless ☝🏻 So proud of you patricial! you're a blessed child! Damn this Was awesome !! Jack the best AHHHHHHHHHHHHHHHHHHHHHhHHHHHHHh!!!!!!!!! LOVE IT!!!! Can´t wait for Overcooked Christmas Edition!!!1 Yass ♥ Wiener lol! He he he he. Every video I watch that you have made makes my mouth water you are amazing!!! 🤤🤤🤤🍪🍩🍰🎂🍫🍭 Done I did it #the best dessert #Ann # notification shoutout Done!! <3 Done!! U r wonderful!!! #fan4life plz come to my channel and sub plz anne it would make me so happy i need to get subscribers views and likes plz sub anne plz  !!!!!! Not the best Club Banger but Durk makin' moves.......... BEST LB EVER Great signing! 👌🙏🏾 Aguero best striker in the league Come Manchester City your the best well played Pep Tim Curry was and is the best IT clown. I was never scared just creeped out.  Still excellent movie though! CONGRATS ON THE WIN WINNERS! geniess dein Calanda :D Bester Mann! :D sehr geile Aktion ^^ mach weiter mit den guten Videos und eine gute Woche dir ! The Very Best in The world The best of all GThe u to <3 Great! Fucking awesome riff. Loved!! ❤️🌻 The best 🎶 1:46 The Fly resurfaced! one of the best matches i have ever seen for bayern munchen Muller:- the best Lol the difficulty settings tho! 😂 awesome!!!! 👁 ♥ her 🐈 2 Lampsy <3 Chelsea, the best football club in the world. Thor's daughter has signed for Chelsea!!! God help rest of the league :D :D Frankie still sporting an adidas :D So cool.Watched Afrojack at Ultra 2017,and also watched him on mixmag.A full set of 90*s music.U can see his work in everything.LUKEE!!!!!! I was at ultra n the best part of that set was when he played rock the house <3 awesome video! That is skating: i do what i whant : no pressure ! Great vid ! I am both very happy and relieved to see Bam again! Hope he is doing well and is feeling alright Bam Im very proud of you!! This is awesome BAAAAAAAAAAAAM! <3 Superb My flag was there!!!!! Love ya !!!! <3 Saludame Sakira!! ♥ ¡Que linda! <3 Siempre anda un venezolano por ahí <3 jajajaa la señora con la bandera de Venezuela <3 Shakira is the best 😍😍\\\\nThis is the 5th time I watch this video 😘😘😘😘 looks cooll <3 Best thing they could do with this is add every pre-construct EDH deck, and add the commander format Awesome video . . . . u can go to  http://www.ytboost.info/  to boost your views. Best portal for views. You're beautiful inside and out. You are growing life inside you, you are a goddess and don't forget it!! ❤️❤️❤️❤️ utterly beautiful! I loved it!! THESE LOOK SO DELICIOUS YUM! U are great ! Hello jemma please i need your help 😊\\\\n Tell me how to make a perfect sugar paste best rapper in 2017 People saying Kodaks the best. Everyone forgot about gates. #FreeGates tell me....\\\\ndo you love it???\\\\n\\\\nYOU WILL!!!!! Zack knows the perfect song! How awesome would it be, if this was the end credit song! #HypeNation 🙌🙌 This is AWESOME. Great video as always!\\\\nLove those zelda theories! You have the best Internet Intro You have the best intro If u will get a nosejob u gonna be perfect AHHHHHHH IM SO PROUD OF YOU GAB! IT'S SO GOOD!! SOME AUTO-TUNE BUT LETS IGNORE THAT AND JUST IMBRACE YOUR SONG! ITS SOOO GOOOODDD!!!!!! AMAZING JOB!!! OMG this is beautiful!!! Awesome! Great job you guys! OMG its thd BEST song ever❤️️😘😽!!!!! Hermoso video :D ya quiero preguntas número 8. Cassey you are gorgeous with your hair up like that!! record a snacks for school,please. You are awesome :D I love the looks of  that 🌮 !!!!!😋Yummy @3:32 when Cassey said 'that is literally it' and then you realize there's no avocado in it.... Cassey!!!😂😂 but avocado or no avocado, that 'wich looks awesomely healthy and tasty!!!! #breadftw 🍞🍞 yassss loving all the vegan videos!!! Everything looks delicious! Great vlog. I now want both a Rekorderlig cider and a weekend away in Stockholm (but tricky from Australia though!) Excellent vlog Lily! Can't wait for the run up to Christmas this year and here's to hoping you will be doing vlogmas (your way) again! Your vlogs are as always THE BEST! So happy to see a vlog. You were missed! where is Anna's leather jacket from? it looks \\xa0perfect! x Bojack is a perfect example of Narcissistic Personality Disorder This and Wisecracks video on the show are the best analysis' of BoJack Horseman THIS WAS THE BEST ANALYSIS OF BOJACK HORSEMAN I'VE SEEN AND ONE OF THE BEST TV ANALYSES I'VE SEEN ON YT. WELL DONE! You all have outdone yourself on this one. Excellent analysis <3 Beautiful!! Sooo good!! Great cover! The xx are awesome!!! This is the best cover ever! <3 <3 <3 This was awesome This is like the eternal best pop song to cover of our times nice cover !!!! Perfect timing to find this. Just smoked a bigass doob. Subtitles are not in the correct way lmao !!!!!!!!!!!! 1:43 :D It looked really great!!! 😍 she just made everything perfect Check it out if you get the chance, brilliant movie! Annie you are the fucking best. Sounds awesome. Finally!!!!!! Awesome tune from fifa17 Solène Rigot is great ! He's so underrated all of his songs are wonderful 2:37 best change of rhythm..  perfect song, goosebumbs all over the place! xx 📃📃📃📃📃📃📃📃📃📃📃📃📃📃\\\\n*MY LIKE FOR WONDERFUL VIDEO*\\\\n📃📃📃📃📃📃📃📃📃📃📃📃📃📃 O melhor cantor do mundo / The best Singer of the world <3 Great song! <3 <3 <3 <3 <3 <3 <3 <3  \\\\nHALLELUJAH Muito bom <3 Great! 😊🎶🎵🎶🎵 <3 VietNam I AM THE GREAT JURRIGAN! I NEED T.P. FOR MY BUNGHOLE!! I LOVE YOU LOGAN!!!!!!!! Xxxxxxxx Your the best Even the best are susceptible to vertical video syndrome. Serena Williams, already a living legend ♥ . Very beautiful! Congrats to you both! All the best Best phone ever man Awesome Apple is the best. Deal with it did anyone notice the poop emoji from the best sony motion picture Emoji movie in the corner there (on the thumbnail) Check out my iPhone X parody on my channel too! :D Your makeup is amazing !!👌🏻🔥Love your products and Zoe's !! LOVE YOUR PYJAMAS!!!! where are they from? SO BEAUTIFUL! 😍😭🌺🌺🌺🌺🌺🌺🌺🌺🌺🌺🌺🌺🌺🌺🌺 This is freakin' awesome!  Now my phone doesn't just spy on me.  Now it can recognize my friends too and spy on them.  That's not going to be abused... nawwww.... Great video! I LOVE THE NAME DOTTIE !!!! DARCIE+DOTTIE❤️❤️❤️ <3 This is their best work. That was great guys! What a rollercoaster!!   I was so close to dislike and not finish but then it was awesome!! That was the best thing ever You guys are awesome This is brilliant.  Bravo ! Please sayJar jar is the best character in Star Wars . Plz do an honest trailer for Netflix death note movie, even though we all know it suxed!!! Can you say:I am proud to have man beeewwwwwwwwwwbbbbbsssssss!!! So basically if a zombie apocalypse breaks out it'll be your blood we'll all need. ....guess now's the best time than ever to ask, are you bloodtype O? Welcome to the Scandiworld! If you are not hypnotized by the awesome graphics, skip to the reason, somewhere around 3:22. I read this my 9th grade year you read it in 4th grade... my teacher said it had one of the best endings ever but I didn't understand one bit on how it was one of the best Nobel endings It was Awesome Jesus, to think that's the best they will ever look 😂 lauren is bae <3 Shouldn't it be 4th Harmony now?\\\\n\\\\nAlso, I  <3 Camila. So awesome Angelica got the most viewed performance Wew!!!! all i can say is PERFECT ♥ Perfect Without YOOOOOO!!! :D KAKA PROUD TO BE PINOY! Proud to be Pinoy! Fergie ft nicky minaj awesome  😍❤ Love you Fergie!!!!!!!!!!!!!! FERRRGIEEE MAH GIRL!!!!! THIS IS AMAZING!!!!! This songs seems so ancient, yet perfect for its time. And it's always time for Radiohead. Awesome video!!!!!! welldone Radiohead The trailer looks wonderful Dis gonna be best movie, guaranteed Dude Perfect needs a Snapchat 😱\\\\n\\\\n\\\\n\\\\n\\\\nLike if you agree!!! BEST NERF AD EVER! 11 million views in 2 days XD These guys are fighting for number 1 best pro Hanzo player i got the perfect idea. Dominos trick edition Who are the 8k that don't like this?!?  What are you expecting.  These are great! YOU DON'T HAVE TO LOOK AT THE SHOT ONCE YOU'VE LINED IT UP PERFECTLY keep going DP ur awesome Awesome people Mom \\\\nEdition | Dude Perfect???? Do this again sometime it was freaking awesome This is why Node is the best channel ever It'd be awesome to have a frying pan or two that you can grab to use as a mini shield. Nowhere to put it but i can see someone wielding it with a handgun on another hand, This is the greatest! Matt's facemask looks awesome A.F. Brighton is awesome your tummy!!!!!! I'm in love!!!!!! xxxxx FYI- if Mike is having aches and pains from running, swimming is supposed to be great for those muscles, but also for joints and your spine! yay for vlogs! so wonderful to see you again! you look the CUTEST in your dungarees and metallic shoes <3 You look great!! Pregnancy wears well on you 😍😍 A lot of youtubers don't vlog anymore if it isn't an ad. Thank you Fleur for not beeing one of them <3 more WIEIAD videos pls!!!!!! the food looks great! EdenSelf Proclaimed Best Hazard That was awesome. I just subscribed. Great vid! Check out Gonzoe Speaking On Tupac's Death 21 Years Ago!↙\\\\nhttps://youtu.be/KYgKNsguseU Do you have a video on best time to book a flight or best days @wendover Yooooooooooooo my top niggas went on in it !!!! Best trap ive heard in AWHILE This looks like it's going to be great! Can't wait to see it! The role looks perfect for Benedit Cumberbatch and I already can't wait for it! Its going to be something without a doubt! Best song in his reykjavik boiler room set... i want a jamie remix of EVERY xx song... #dream <3 DAMN THIS REMIX IS SO GOOD!!!! Jamie is the best!!! Can i get a remix of xx-angels? Its their best song in my opinion Jamie XX you did it again!! Amazing!!! How can music be so perfect <3 Tremendo remix! ♥ OMFG , marvelous!!!!! Perfect remix!!!! YAAAAAAAAAASSSS, MORE PLEASE!!! !!!!!!!! !!!!!!!!!!! Your best video in ages. Best song ever amazing!!! great! Just Amazing !!!\\\\nGreat job James Yet another great song from Rudimental. Can't wait to see them again!! <3 All to well is the best ts song All Too Well is her best song All Too Well is the best song to ever exist *period* FUCKING EXCELLENT EPISODE MAN I'm so proud of you Nile!!! What a champion! Nile you are very good! Awesome bro Congratulations. You're so awesome. so good Nile, well done dude!! YESSSSSSSSS NILE THANKYOU FOR BEING SO INSPIRATIONAL !!!! Your family's awesome Congratulations Nile!  Phenomenal!!!!!!!!!! fucking brilliant! ! THIS IS PERFECT IM SCREECHING awesome band....and harry 3:17 studying frame perfect shine out of shield in the 20xx handbook Soooo.... what your saying is....\\\\n\\\\n\\\\n\\\\n\\\\nwho is getting the iPhone X? :D PS Beautiful animation! Awesome wuoooh , they sounds great !!!  you go GAP ! i was the 666th view :D It's Chris.  LOL!!  Perfect ending. Bruh he be looking like a perfect combination of drake and tory lanez SFFFFFFF Just moved here from NYC six months and will give you all of the recommendations :D <3 <3 I still remember your blog with Aslan! Button & Goose??!! :D If you go to San Francisco can you please do a meet up? That would be so amazing!!! I was looking for Hatsune Miku and I found this :D Your brows are looking great! <3 You are so beautiful! 😍 Your skin is so flawless u dont even need makeup gurl Your skin is so beautiful!! If i had your skin I wouldn't even use foundation!!!😩😩😩😍 You don't even need foundation your skin is beautiful. Ugh I'm jealous! I hope you have skincare routine videos. #subscribed You skin is beautiful! The sponge is for the highlighter for under the eyes that's why its shape like that... The brush is for the foundation... !! After 7.5hours still looked flawless ❤️Great review 🌹#Riri You have the best skin in the world jfc You are soooo BEAUTIFUL!! And your skin is like butter!!! I'm so jealous!!❤️ You are so beautiful! You are BEAUTIFUL!!! So beautiful! ♥️ OMFGGGGGG you have flawless skin! Girl your skin is gorgeous!!! 🍫🍫 1998 the birth of awesome stuff like the birth of meee THE NEW KIDS ON THE BLOCK ARE MY OBSESSION!!!!!!!!!! SOOOOOOO JEALOUS!!!!!! I still have the VHS tapes!!!! I miss the 90's. Your makeup was awesome in this video, Bunny! I still have my purple caboodles box from I was 13 ! (I'm 29 now) lol it has spice girls stickers on it ! STOP boning your daughter Mr President! Lose weight Alex lol! Both of you, GROW BRAINS!!!! Your awesome I LOVE THE DACT YOU ARE VLOGING NOW!!!!!!! This makeup looks great on you!   Your skin is glowing... I love you!!!!! This vlog made me so happy 😁 your family is the cutest! What are your sneakers called? <3 TBH I don't even like the logo movies but this was AWESOME please do a beyonce cake i <3 you Best Lego cake I've ever seen Talk about a challenge! You did a great job! More lego cakes!!!! Andrew: HOLY SH*T THAT'S AMAZING\\\\nSteven: Whooooooo- That's the best oyster I've ever had!\\\\nAdam: *nods* You guys should come to Florida and do food that's made with Gator meat. Which is delicious! So jealous that they get to eat all this delicious food from all over the world! Melbourne - greatest city in the world Lol, thumbs up for Duke! I am supposed to be impressed because some hypocritical Muslim cunt can walk? What if her chonis came off ? Lol! LOL!!!!  🤣🤣🤣🤣🤣🤣 Nobodys perfect It's GROWING on you - hehe, I see what you did there (also it looks awesome, reminds me of Betty Page) Your hair looks soooo good!!! I was there tonight, zappacosta goal was awesome in person 😏 Best club for ever! 💗🙏 CMON YOU BLUES!!! BEST LADS IN THE CL THANK YOU CHELSEA FOR LISTENING TO US AND BRINGING US WORLD CLASS CONTENT.\\\\n\\\\nSOON TO BE THE BEST FOOTBALL CLUB ON YOUTUBE!!!! Chelsea Is the best #Blues Your dad is awesome one of the best vlog 5:14 😍 you're welcome! On the good foot! HYAHHK! ...and yeah, I don't care. So awesome! ON THE GOOD FOOT, HA!!! LOLOLOL! He's awesome! perfect foundation shade yasss Your skin is flawless 😍 THAT CREAM BRONZER LOOKS SOOO GOOD ON YOU! I kinda wanna try it now! I've never done cream bronzer.. hmmm the foundation matched the rest of your body, and the fenty blender application was so flawless... THANK YOU for saying your foundation shades in SO many foundations!!!! Biggest pet peeve is when youtubers don't mention the shade they buy in a foundation I like the podcast idea but like seeing the vlogs so also monthly vlog lol! Monthly vlogs yeah :D Ro is a happy cookie! 🍪 Ro this look so yummy and good!!!!!!!!! Tim's face is priceless !! 😂😂😂 Best movie of the year This is gonna be a great movie! \\\\n\\\\n\\\\nAnyway, how's your sex life? The Like to Dislike ratio for this video is one of the best I've ever seen. This is awesome Great song! I like that HELLO FROM  TURKEY ( ISTANBUL )   PERFECT SONG  PERFECT VOICE (y) Best Perfect song 👌 wow...........he looks really, really old!!!!!!!!!!!!!!!!!!!!!!!!! Mankind's greatest creation is Larry David. Best show of all time!!!! 0:54 I see what you did there :D great video!  I have been wondering this for quite a while (but been too lasy to look it up ...) She is so beautiful!! He has a great voice !!!! shes a perfect mix of Rihanna and Janelle Monáe HES SOOOOOO PERFECT 😻😻 her voice is very attractive btw The sausagefest that is your patreon account is always the best piece of comedy in your videos He was born in London.  He was a wonderful man. He was awesome 😭😭😢😢 You're awesome!! A 20 min video of Fleur!! The face of confusion when Fleur talks about Balmain in literally me about the brand's hype lol! My fave vid all month! <3 Byeee money!! 0:57 making speed, Shinobi, and slide tackling, your greatest asset flawless skin I want it all!! This is why i bought my switch and im so happy we have a release date now... time to book some holidays!!!! This graphics looks delicious Looks incredible!! G-Friend <3 2M buddy!!! Keep streaming and shareing ❤❤❤ make GFriend great again!!! 💪💪💪 views are stuck, but lets keep streaming to our very best for the 24 hour goal!!!! 👊👊👊 This song reminds me of perfect 대박♡ gfriend is reallyyyyy awesome! Best spicy noodle challenge😂😂😊 good job niana!!!... hahah this is the greatest history channel on youtube! Girl! You're trending #25\\\\nAlso that Estee Lauder foundation looks great!. One of the best shade matches ever!! Yes on Trending!!!!! That's great Taylor! 💗💗 So happy you're trending!! 💕 the greatest album ever Flashing lights, can't tell me nothing, Stronger best songs on the album Graduation is like 2-3 but MBDTF is just the best album of all time 🤙🏾 Imo the greatest rapper ever This is awesome Man that album was awesome @doddleoddle Derealization is talked about in the song Anziety by Logic, if you haven't heard it. Thank you for making this video <3 Great Noel! Noel seems to force a bit his voice. He in 2009 was perfect. Absolutely awesome Wonderful! The intro is incredible!!!!!!!! I love the intro!!!!! Nice intro gurl!!! Love your videos, Casey!!!!!!!!! BABE YOUR SKIN LOOK FLAWLESS Girl, yes. FLAWLESS. 💋😍🙌🏻🔥💃🏻 Astro + Rocket = <3 That fireplace is so beautiful!!!! 😍 Love your style!!!!! Those watercolor plates are BEAUTIFUL! I say that's the best when i see that video caption in my sub box! Victoria making homeware haul, yaaas 😍 You did a very good job!! I loved it all!! You are so flawless!! You are my inspiration sister 😛 Everything about this brand makes me want to throw all my makeup away and replace it with Fenty. <3 Thank You Mr Vice President!!!!!!!!!! You are the best Vice President Ever. I'm thankful for you and President Trump. God Bless you both and God Bless America beautiful speech President Pence!!!!!!!!!!!! Beautiful! 👏👏❤️ These look incredible!! Beautiful! Sooooooooo preeeeeeetty! <3 Cracker Jack is popcorn coated in caramel and at the bottom of the bag there's a bunch of delicious candied peanuts if you aint gettin money then you aint got nothin for me yes GOD loving the beyonce inspired stuff!!! Looks divine and awesome as always! >< this is so beautiful!!!! Perfect timing, I've been looking for a gold theme dessert to make for a childhood cancer awareness event! Great channel too! Looks amaaaazing! <3 How about a banoffee macaron? Great video Nick! Why don't you have millions of subscribers mmmm why... Ur so amazing!!! awesome This is the best thing Ive seen all year! Maybe in my life. fatrollin like there's no tomorrow :D Their faces are happy Sunshine's though ! Looks good as hell!! Your shirt <3 The best guest speaker ever!! I have a puppy!  Her name is Boo Boo Bear but we call her Boo Boo or Boo Bear!  I would love for her to meet Moose!!!! She is a lab and a boxer mix!!!  😍😍😍😘😘😘😉😉😉😉❤❤❤😁😀 you are gorgeous without (and with) makeup !! <3 Everlane has great tshirts! <3 love you!!!!! THIS IS THE BEST You make me feel so happy,you inspire me,and if you ever doubt yourself don't you are perfect in every way and if you see a flaw all I see is flawlessness How can someone call kirstie a slut when she's that flawless (yes I know it's for the video) Slay so amazing!!!!! Miniminter and ksi are very good friends!! 48 to 53 best part bro ksi diss tracks are da best Messi is the Best FC Barcelona is the best! 🎉East or west ♏ESSI is The BEST 🎉 dembele beutiful pass to suarez what a wonderful dribling by messi Sin duda, messi el mejor del mundo <3 Why are you so perfect? This is abs brilliant, well done Tom, amazeballs!!! If this doesn't get parents and kids reading nothing will, it is awesome!!!! Now I wish I was a kid to join the book club!!! Great job Tom!!! Excellent video Tom👏🏻 Awesome but mcfly? Lovely!!!! Best promo EVER! :'D xxx Awesome production! Needs an award! I want that speaker! Omg omg it's brilliant! thank you carrie for introducin me to megan jayne crabbe, i'm in tears scrolling through her instagram <3!!!! Book openings are great videos!! As are all of yours xxx Aaaaw I've missed your home videos <3 Con todo <3 I can't wait until number 100! Your the best this is all trumps fault, great job merica!!! I WISH YOU GUYS ALL THE BEST 😞🇬🇧 JALOPNIK is here :D http://jalopnik.com/this-one-little-engineering-detail-is-a-great-reminder-1803758960 welcome to the loser club motherfucker! greatest president ever! Trumps the best! For some reason his music always fits perfectly with my situations in life Hey I did a cover of this and would appreciate it if you could\\\\nCheck it out❤️ I know I'm not the best but I hope you like😘 xxx his voice is just perfect Welp he's done it again. Another amazing song!!! Beautiful song!!!!! Baixou a Adele no Sam Smith <3... Damn..why'd you stop the video?!!!! Probably best, I was about to explode ❤️ I went out and bought trophy wife and the foundation and I'm in LOVE!!!!!!!!!!!!! How is your skin so perfect? 😩 I think that his hairline is perfect but he is experiencing alopecia by his hairline. Best one yet!!!👊🏽 I thought this would be humorous..\\\\nBut damn. I think Bill Maher got his ass kicked by Kenn Bone. This was awesome. Cr7 el mejor de todos, me conmovió el comentario de que solo tiene hasta 6 año de escolaridad pero tiene el carácter de decirlo, no merece que en España y alrededor del lindo le tengan envidia y lo quieran ver hundido. Grande CR7 The Best Dragon drop sounds great! Best tech at Walmart or autozone It's a beautiful Tim Curry out toda-AAAAAAAAAAAAAAAAAAAAAAAAAAAAAAAAAHHH!!! Best Pennywise line - \\\\n\\\\nKiss me fat boy! Morgan is the best actor ever This is probably the best episode I have ever seen Chris Martin <3 0:18 That awesome lead layering.. Avicii the king of layering Tim you are the best producer in the world, I'd sacrifice all I have just to see you with my eyes. Please notice me if you see this, you are my idol, you are the best! Awesome That's all This looks great! :D Avicii <3 <3 It look perfect 😭😭😭😭😭 IPHONE X am coming for you 😏 best reaction ever😂😂😂 One of the best footages of 2017 What a happy ending! Beautiful!!! awesome, i give like, and subscribe I'm not a fan of this song but this was AWESOME Excellent. 5:15 zayn harmonizing is the best thing ever😍 SO, if you have a minute to check out my cover...That'd be awesome! Thank you from INDIA 💓 😊 👍 Zayn is best singer from one direction ❤️❤️ Best song of the year Between 2:30 and 3:30 is the best part 😍 When Zayn sings over Sia omg 😍😍😍 one of his best songs Awesome 😎 5:15 best part. sia u the best 😍😍😍😍 i think Paul Scholes has to be in that team....and barnes over giggs in my opinion. Best partner for Shearer for me is Sheringham Your skin is PERFECT ur skin looks gorgeous!! Ur accent is everything!!! And ur so beautiful!! A B S O L U T E L Y flawless! This is the best I have ever seen your skin! It looks so beautiful! Beautiful as always!! 💕 What lashes are you wearing? Awesome job.. Thinking  of buying the trio.. cuz I don't have anything like that <3 so exciteed tooo Beautiful! Luv you boo!😍 Woww perisic.. magnificent goal.. This is Brilliant! xDDD Best vid ever Valentina, never leave it in the hands of the judges. To win a title fight you need to knock out or submit your opponent. You did not do that so stop whining!!!! Hmmmm\\\\n*looks up search history*\\\\nwww.thepiratebay.org\\\\nwww.kickasstorrents.se\\\\ngoogle: Best torrent VPN\\\\nHmmmmm, wonder what I do... I REALLY HOPE THIS HAPPENS!!!!!!!!!!!! This is a great theory!!!! Perfect Song for whats going on Now This is why they ARE the best band ever !!!!!!!!!!! Fucking awesome! Amazing!!! One of their best TV performances. I was thinking all day about this song... dude it's simply awesome Bono still is the best Great song! U2 DNA still in progress... Fantástico, como sempre. Parabéns! This is... GOOD!!! AWESOME!!!! Awesome tune Awesome song❤️ RIP George OMG Emilia is a really good singer!!! Ohhhhh Emilia & Eduardo looked so gooood in their uniform...Eduardo looks good with his haircut!!!! This song fits ally voice perfectly & the best 😍😍😍😍 💯💯💯 Aly ♥ the best 💕💕 LAUREN <3 Fifth Harmony surely DELIVERED!!!!! It matches you perfectly keep using it Try fenti foundation u might find the perfect shade I loved this!! ❤️ I subscribe :D It looked great! 😍 i heard\\\\n\\\\n\\\\nTHE BEST THE BEST THE BEST THE BEST THE BEST THE BEST THE BEST THE BEST THE BEST  (reference) https://youtu.be/rnJ4blc_S6g                   best I ever saw Keep fighting girl!! You're AMAZING!!! Best wishes to you as you're going through this struggle. your speech is amazing in this vid!!! always praying for you Perfect song and music video! I love you, Kelly! You're a GODDESS!!!!! <3 why people ain't listening to this beautiful masterpiece ! Love It Kelly !!!! YAAAS <3 Oh my god, those visuals ♥ The best! This is the best Bojack episode Why is this man so perfect? They make look awesome PJ you're a patootie cutie <3 I found that the Marc Jacobs lid primer works best with no foundation/concealer on the lid! Went on a lot smoother This look is beautiful! Beautiful! 😀 8:59 Woozi's reaction is so priceless I kennot😂 😂 Loved it!!! now I can't wait for adelaine morin room makeover. What a beautiful office! Liza's reaction was priceless!😊 I so need Mr. Kate to do a home makeover for me. Gorgeous as always!!!! THIS IS THE BEST ONE YET!! 😍 Its amazing!!! 😱😱😱😱💗 Awesome ! Aurier the best Check out We Made It podcast, the best football podcast on the planet wemadeit.syndicate23.co Soo cute!!!! TRENDING!!! :D Ran out of sand?! LOL!! It's Florida! Your videos are great! I've been watching forever & didn't realize until Nala's birthday and I've been watching since like way before zoe moved to brighten oh my Alfie dancing at the start made me so Happy!!!!!! Great Vid Alfie ! Hi person scrolling through the comments I hope you have a great day!! I love your vlogs!!!! Loved this style video and all the bits you bought! Home sense is my fav too! ❤️ Amazing haul!!! Never been to home sense but I am going tomorrow!! Great taste! You need to do more videos like this!!!! 💕 geniess dein Calanda :D Bester Mann! :D sehr geile Aktion ^^ mach weiter mit den guten Videos und eine gute Woche dir ! Keep it on! Your hair is great! I think you'd look great with a shorter haircut ! Keep it! And the color is great, too! 💆🏻 How beautiful you are! Hoya is kinda speaking the truth! we see better fights on WorldStar!!!! Jack the best This was so good!!! She was delightful! Thx Lisa & Valli❤️ Lol I literally watch your videos while I work! Your reactions and comments make my life 😂 ❤️ Your looks and personality are absolutely flawless ☝🏻 wooooooooowwwww that is awesome Awesome! <3 very great 🎵🎶🎧 fuc*** great!!!!!! great song! any drummers out there, cover on my channel! they are coming to australia with weezer (another *awesome* rock band) for a concert 2018, but tickets cost $150 The best part was from 00:00 - 3:39 Listenning to this..... this album is gonna be perfect this song is perfect for FIFA Damn this Was awesome !! Lex you should do Leatherface from Texas Chainsaw Massacre! That would be so awesome! YAAAAAS I WAS WAITING FOR IT QUEEN <3 This video was the best 😂😍👏🏾 Speechless!!!!You rock and your work is AMAZING!!! YOURE AMAZING!!! I swear you're so freaking talented!!!! This is brilliant! THIS IS AWESOME! The Very Best in The world The best of all GThe u to <3 Great! Fucking awesome riff. Loved!! ❤️🌻 The best 🎶 OMG THEY LIVE STREAMED THIS ON MY BIRTHDAY!!!!!!!!!!!!!!!!! AHHHHHHHHHHHHHHHHHHHHHhHHHHHHHh!!!!!!!!! LOVE IT!!!! Can´t wait for Overcooked Christmas Edition!!!1 Yass ♥ Superb My flag was there!!!!! Love ya !!!! <3 Saludame Sakira!! ♥ ¡Que linda! <3 Siempre anda un venezolano por ahí <3 jajajaa la señora con la bandera de Venezuela <3 Shakira is the best 😍😍\\\\nThis is the 5th time I watch this video 😘😘😘😘 Wiener lol! He he he he. Love it!!!! 💕💕💕💕 Aah ur soo pretttttttty and ur clothes are AMAZING!!!! I think he would make a great Joker! Anyone else agree?? Wait...so he was the great Cornholio!? Awe he's the best! he is just so ahhhhh so flipping cute !!!! Best fall out boy song! Perfect FOB never disappoints <3 Congratulations Alexis and Serena on the wonderful journey of parenthood!! 🌻 https://youtu.be/rnJ4blc_S6g                   best I ever saw This is so beautiful! Best team ever. Come at me haters! 🖕🏿 City have just smashed arguably the best side in Europe atm 4-0. There's no reason why we can't go on and win it now! #FeyenoordWho? I'm so happy for Logan! Dent the Universe Good job!! LOGAN 4 LIFE Why is this the best thing ever I have a feeling that this trailer showed all the best parts. LOL, that was gold! Awesome... Awesome 3:48 best part ever Awesome I need it omg best investment the is their best idea since vine!!!! oh wait... Mmm delicious uni Hey awesome video!! By the way where did you get that leather hat? Beautiful scenery!!!! Best music in the vlogs on youtube really fun video i loveedd itt!!!!!! You are perfect!!!! You should try bouldering! :D Steve jobs monies greatest actor 22:40:40 best moment perfect song when you're under drogs <3 She as a awesome voice The best video ... ,💗💗💗 11:42 is the best thing I've ever seen Q You have the best group 💗😂 yolandi spotting... amazzzz!!! <3 U guys look awesome Loved the video!! you literally have a holiday glow with this ! <3 You look amazing!!!! I really liked the style of this video as well. I'm so tempted to get the primer and the highlighter duo set now!!!!! Fleur's reviews are the best reviews 💕 SPICY!!! By the way: Trump is the best President in history! Trump used the word articulated....nah don't think so! Although he knows the best words awesome bro <3 Great Song MGK!! You're amazing. Don't you worry about a thing, gal !!!!! Great nails! one of the best! Norm's the best, the rest is just commie gobbledegook. ....but 9/11 WAS a national tragedy!!  :D Best Norm joke\\\\nhttps://youtu.be/e3Ev38wpX04?t=3958 i want a jamie remix of EVERY xx song... #dream <3 Best song in his reykjavik boiler room set... Finally! Best part of his Boiler Room Reykjavik set in my opinion DAMN THIS REMIX IS SO GOOD!!!! Jamie is the best!!! Tremendo remix! ♥ OMFG , marvelous!!!!! <3 superb pet-shop-boys-like intro! Great video! What card holder did you have in your bag? After one and yours looked perfect as it had a zip for change too. Xx Tan's vlogs are the best <3 DUA'S VOICE IS SO PERFECT Amazing Dua!!!!!! Her voice is literally the best Both are awesome they should do something together Omg!!!!!!!!!!! I love dua  lipa and gallant!!!!!!!!!!! excellent version!! BEAUTIFUL! Gold <3 Awesome!!!! Brilliant!! The best performance This vídeo was AWESOME!!! Tks Louis!!! That kitten wasn't sleeping, it was knocked out ! :D Most loneliest?!!!! Awesome video, thank you for sharing. best vlogging on youtube now This is the best series after rickshaw run Always giving out the best haul ever Thank you Ms. Kim the best teacher I ever had!!!!!! He should have practiced his pronuncation of el dorado, but great video! Say Jay Mata Di in your awesome voice this is the best video i've ever seen Brilliant idea! ❤💚 The Weeknd is the best feature of 2017 Wop sign yo favorite artist project pat bruh!!! Keep it 1000wow!! So we have established that Emma is perfect? So basically if a zombie apocalypse breaks out it'll be your blood we'll all need. ....guess now's the best time than ever to ask, are you bloodtype O? 😇😇😇😇😇😇for the win!! Perfect! 😍😍 So great!! You perfectly explain the rants I have in my head during movies THIS IS MY FAVORITE SONG!!!!!!!!!!!!!!!!!!!!!!!!!!! <3 You guys still make the best shorts!!! It's like living with a bunch of kids!! *Good night* NO!!! awesome film(: This deserves so any views! great video! What would I need to do to become part of the Node team? You guys are awesome! Simunition NEEDS to be introduced. . . . . . . .   =D Awesome! A thorium liquid fuel reactor video, decay cycle, and options video would be awesome for this channel in my opinion Country looks like Wreck It Ralph in the safety suit! I'd love to see a vlog where country does some Wreck It Ralph type stuff!!!! Doing it for the views :D Your content will always be the greatest piece of content on the trending page, period Floyd is a good looking man! dog gone it! THE BEST EVER!!!!!!!!!!! LOL!! more WIEIAD videos pls!!!!!! That soup look delicious, I'm gonna try it myself! the food looks great! Ac origins is best among others ac please do bater for pc gamer 😍 The Trailer is Awesome I like Blaks are tha best Jeongyeonieeeeee <3 My tzuyu always perfect Tzuyu <3 Oh my, this is so good!! AWESOME! Radiohead.. just the best.. ohhh Radiohead.. 2:53 Paranoid Android <3 <3 <3 https://www.youtube.com/watch?v=rYw6FxEGDCY 2 Best things in it.\\\\n1) BENEDICT\\\\n2) MUSIC This looks like it's going to be great! Can't wait to see it! The role looks perfect for Benedit Cumberbatch and I already can't wait for it! Its going to be something without a doubt! Awesome Awesome u could make a nutella frozen bark.. just  blend nutella yogurt and frozen banana with a bit of vanilla...!! perfect for a chocoholic ♥__♥ Lower in fat; lower in sugar; delicious. You're contradicting yourself when you say that. man this looks sooo good 😭 once i get discharged from the hospital, i am so making this!! Zaps were the best!! Berries too tangy? This goes perfectly with frozen ripe bananas. What about adding some mint to the mix, just to give it that kick? Mint and berries are great together! (Plus, it would make Ben happy😂) That is GORGEOUS!! 😍 Best thing ever You look great!! Pregnancy wears well on you 😍😍 Brighton is awesome your tummy!!!!!! I'm in love!!!!!! xxxxx FYI- if Mike is having aches and pains from running, swimming is supposed to be great for those muscles, but also for joints and your spine! yay for vlogs! so wonderful to see you again! you look the CUTEST in your dungarees and metallic shoes <3 A lot of youtubers don't vlog anymore if it isn't an ad. Thank you Fleur for not beeing one of them <3 You should try to make Perfect toast This is the best channel on youtube. One Word: Yummy!!!! :D Zcould u do a tutorial on how to be a dude perfect God bless! Guys you should watch the video of dakdominos a tribute to dude perfect that's awesome how do they do that they are so good!! Y'all are awesome Nerf Perfect, Dude Shots Awesome Dude that was perfect Dude perfect please do swerve ball trick shots You do coll things dude perfect EdenSelf Proclaimed Best Hazard I like the collection of marip party 5 mini games. The best mario party! How can they have 100 of the best minigames and it not just be Paddle Battle 100 times? Should have added the best board from each Mario party as well Best song ever Awesome Rudi <3 *;_) amazing!!! great! The best song ever 😍💞 Just Amazing !!!\\\\nGreat job James Great concept! All to well is the best ts song All Too Well is the best song to ever exist *period* All to well is the best ts song...https://goo.gl/czCVJA All Too Well is her best song This is gonna make microphiles and macrophiles very happy Best song in album Jim, the factory bit was awesome! Congratulations! Yay!! Happy Monday Jim! 3:17 studying frame perfect shine out of shield in the 20xx handbook PS Beautiful animation! I'm stuck between him and Zayn over who had the best vocals in 1D He looks alittle nervous to start,than he does a totally AWESOME job!! Great song to cover! Their voices have the perfect range for this song. So impressed Best cover 🍸🌹🌹🍸🌹🌹🍸\\\\n🌹🌹🌹🌹🌹🌹🌹\\\\n🌹🌹🌹🌹🌹🌹🌹\\\\n🍸🌹🌹🌹🌹🌹🍸\\\\n🍸🍸🌹🌹🌹🍸🍸\\\\n🍸🍸🍸🌹🍸🍸🍸\\\\n🍸🍸🍸🌹🍸🍸🍸\\\\n🍸🎁😊❤☺🎁🍸 That was fucking awesome. OMFG I CAN'T EVEN EXPRESS HOW HAPPY I AM THAT HE COVERED FLEETWOOD MAC !!! WE ARE SOULMATES! *PRIMANTI'S style. Someone loves PGH <3 JOANNA! Forever the best Emma Woodhouse <3 COME TO SF <3 <3 SFFFFFFF Just moved here from NYC six months and will give you all of the recommendations :D I still remember your blog with Aslan! Button & Goose??!! :D Awesome!!! in 5 days she's almost gained another 100k subscribers. <3 so awesome!! Your skin is flawless! Even before the foundation. Her face is flawless, without makeup! Girl you don't even NEED foundation, your skin is FLAWLESS I hope Rih Rih sees this! Absolutely in love!!!! The foundation made your skin look photoshopped! I've watched a ton of your foundation review videos and I think this foundation is one of the best I've seen on your skin! So beautiful! Also congrats on 300,000! YOU HAVE BEAUTIFUL SKIN!!!! Girl you don't even need foundation your skin is perfect! Girl you don't even need foundation your face look flawless 😍😍😍😍 You're so beautiful!! 😍 your skin is fuckin perfect, you dont need foundation. You're gorgeous!! 😍😍😘😘 😱😱😱😱 Awesome Flawless 🙌🏼🙌🏼🙏🏼 you’re beautiful!!! You're beautiful!! Your skin is flawless. Awesome product review Her eyebrows are perfect Her perfectly even skin 😍 Omg!!! Maaaajor flashbacks 😂😂😂😂 90's was amazing!!! <3 You're always gorgeous but this video...GIRL😍 your makeup and hair is on point!!!!!! can you please do a tutorial for this makeup?? <3 I have this it is awesome Amazing move from Nintendo!!!! #UnderVlogs is da best I love you!!!!! This vlog made me so happy 😁 your family is the cutest! What are your sneakers called? <3 Your brows are looking great! Congratulations Yo! You are the best!! This is so awesome.  Well done yo This was awesome studs. They're called studs. Great vid! that is an awesome cake. I would like to see you make a chocolate covered strawberry cake with brownies, cake, strawberries, and chocolate. U r truly amazing!!!!! RIP Frank Vincent. Legendary. suck our cocks ? that Billy Batts' face, priceless Excellent actor I am supposed to be impressed because some hypocritical Muslim cunt can walk? What if her chonis came off ? Lol! LOL!!!!  🤣🤣🤣🤣🤣🤣 Nobodys perfect Lol @ The Stranger your dad rocks! Tsong you're awesome! You're an inspiration to everyone. #mil4wil Try Sri Thai in Ocean Beach! 4621 Lincoln Way, San Francisco, CA 94122 --- their food is awesome! wish u the best wil! nadale mo batambata! LOL shhhhuuuukkkkttt!!! 😂 Nakakamiss walang maingay sa Rockwell, holding a gigantic cam. beautiful! <3 LOL he tried to play a skit on her she didnt catch on, shmart! He's just the fuckin best. hang in there, Aaron...keep reaching out for help, cuz we want you well <3 If you ever knew a junkie than you know 100% if his lips are moving he's lying. I wish him the best. Australia has the best seafood in the world I've had seafood from the east coast of the state, I've had seafood from Hawaii, I've had seafood from Malaysia, and I've had seafood from Singapore. THE best seafood I've had was from Australia. Say what you will but shes an excellent press secretary GFRIEND never disappoints ♥ Proud buddy from malaysia!!!! My umji <3 Gfriend is the best ❤ I like the podcast idea but like seeing the vlogs so also monthly vlog lol! STOP boning your daughter Mr President! Lose weight Alex lol! Both of you, GROW BRAINS!!!! Best HELLO FROM  TURKEY ( ISTANBUL )   PERFECT SONG  PERFECT VOICE (y) 72 binde buradaydık hacı, 3 güne 510 bin olmuş.... Alper Nedim'e selam olsun :D Perfect song 👌 Can you make something GoT themed with the Arya as Lanna hair style? THAT WOULD BE SOOOOOO AWESOME! Make something unicorn themed! :D So is the dog going to get Nominated too? For best dog on a movie? (Hai Doggie!) Tim's face is priceless !! 😂😂😂 Mankind's greatest creation is Larry David. wow...........he looks really, really old!!!!!!!!!!!!!!!!!!!!!!!!! I CANNOT believe you didn't like the lemon pepper chips! They're literally the best thing i've ever put it my mouth we have all those flavours in England too!! they're all too nice!! you have to try a nandos- to die for! great job monster!! you protected your mother.. Lol, thumbs up for Duke! great video!  I have been wondering this for quite a while (but been too lasy to look it up ...) 0:54 I see what you did there :D That's a great idea! great series Tom. keep them coming !!! It's GROWING on you - hehe, I see what you did there (also it looks awesome, reminds me of Betty Page) Your hair looks soooo good!!! Why don't you have millions of subscribers mmmm why... Ur so amazing!!! awesome I was there tonight, zappacosta goal was awesome in person 😏 Best club for ever! 💗🙏 CMON YOU BLUES!!! BEST LADS IN THE CL THANK YOU CHELSEA FOR LISTENING TO US AND BRINGING US WORLD CLASS CONTENT.\\\\n\\\\nSOON TO BE THE BEST FOOTBALL CLUB ON YOUTUBE!!!! Chelsea Is the best #Blues I hope these cuties start a band together oh my lord <3 She is so beautiful!! He has a great voice !!!! shes a perfect mix of Rihanna and Janelle Monáe HES SOOOOOO PERFECT 😻😻 perfect foundation shade yasss Your skin is flawless 😍 THAT CREAM BRONZER LOOKS SOOO GOOD ON YOU! I kinda wanna try it now! I've never done cream bronzer.. hmmm the foundation matched the rest of your body, and the fenty blender application was so flawless... THANK YOU for saying your foundation shades in SO many foundations!!!! Biggest pet peeve is when youtubers don't mention the shade they buy in a foundation The sausagefest that is your patreon account is always the best piece of comedy in your videos my best friend once set fire to microwaveable mac and cheese cuz she forgot to add water ♥️♥️♥️ He was awesome 😭😭😢😢 He was born in London.  He was a wonderful man. That is the best This is the best thing Ive seen all year! Maybe in my life. If you can accept a permanent class of F'd people, Sparta had the greatest government ever known. this is the greatest history channel on youtube! the greatest album ever Graduation is like 2-3 but MBDTF is just the best album of all time 🤙🏾 Flashing lights, can't tell me nothing, Stronger best songs on the album The greatest of all time This is beautifully compiled. Thank you Vox! Imo the greatest rapper ever Girl! You're trending #25\\\\nAlso that Estee Lauder foundation looks great!. One of the best shade matches ever!! Yes on Trending!!!!! That's great Taylor! 💗💗 So happy you're trending!! 💕 Now I wanna see SM64O speedruns :D You sir, are fucking awesome! @doddleoddle Derealization is talked about in the song Anziety by Logic, if you haven't heard it. Thank you for making this video <3 I'm impressed that nobody saw or mentioned that Tyler, the creator's album was in the iphone x when they were presenting it\\\\n\\\\n\\\\n\\\\n\\\\n\\\\nOh, it's not over here? huh, maybe find out where it is It look perfect 😭😭😭😭😭 IPHONE X am coming for you 😏 😂ur the best Dillon you are fucking awesome xD best reaction ever😂😂😂 Great Noel! Noel seems to force a bit his voice. He in 2009 was perfect. Wonderful! Maaaaaames! Estas ganas de escuchar Wonderful Wonderful yaaa! Ughhh love this!!!! Ahhhhhhhhhh you're so amazing!!!!!!! Love your videos, Casey!!!!!!!!! BABE YOUR SKIN LOOK FLAWLESS Girl, yes. FLAWLESS. 💋😍🙌🏻🔥💃🏻 LOVE this look!!!!! And that liiiip!! I love this look!!!! Thank you I just found my fall go to look. Your the best!!! taimous the best xd Looks good as hell!! Astro + Rocket = <3 That fireplace is so beautiful!!!! 😍 Love your style!!!!! Those watercolor plates are BEAUTIFUL! I say that's the best when i see that video caption in my sub box! Victoria making homeware haul, yaaas 😍 You did a very good job!! I loved it all!! Roller skating goallllsss👌🏼👌🏼 best introoo💓💓 please make a video about 4 best friend please answer I love the intro!!!!! The intro is incredible!!!!!!!! You have sooooo good intros!!! Nice intro gurl!!! You're perfect James! Doesn't listen to the haters babe! 😍🖤🖤🖤🖤🖤🖤 That was fuckin awesome! you are gorgeous without (and with) makeup !! <3 Everlane has great tshirts! <3 love you!!!!! Moose is so cute!!!!!! Your shirt <3 The best guest speaker ever!! I have a puppy!  Her name is Boo Boo Bear but we call her Boo Boo or Boo Bear!  I would love for her to meet Moose!!!! She is a lab and a boxer mix!!!  😍😍😍😘😘😘😉😉😉😉❤❤❤😁😀 Beautiful! 👏👏❤️ These look incredible!! Beautiful! Cracker Jack is popcorn coated in caramel and at the bottom of the bag there's a bunch of delicious candied peanuts if you aint gettin money then you aint got nothin for me yes GOD loving the beyonce inspired stuff!!! Looks divine and awesome as always! >< Sooooooooo preeeeeeetty! <3 this is so beautiful!!!! Looks amaaaazing! <3 Perfect timing, I've been looking for a gold theme dessert to make for a childhood cancer awareness event! Great channel too! How about a banoffee macaron? Great video Nick! 48 to 53 best part Also well done Dave, yet another awesome video Why are you so perfect? This is abs brilliant, well done Tom, amazeballs!!! Now I wish I was a kid to join the book club!!! Great job Tom!!! If this doesn't get parents and kids reading nothing will, it is awesome!!!! Excellent video Tom👏🏻 Awesome but mcfly? Lovely!!!! Best promo EVER! :'D xxx Awesome production! Needs an award! Messi is the Best FC Barcelona is the best! 🎉East or west ♏ESSI is The BEST 🎉 dembele beutiful pass to suarez what a wonderful dribling by messi Sin duda, messi el mejor del mundo <3 I want that speaker! Omg omg it's brilliant! thank you carrie for introducin me to megan jayne crabbe, i'm in tears scrolling through her instagram <3!!!! Book openings are great videos!! As are all of yours xxx Aaaaw I've missed your home videos <3 greatest president ever! Trumps the best! Thank You Mr Vice President!!!!!!!!!! You are the best Vice President Ever. I'm thankful for you and President Trump. God Bless you both and God Bless America beautiful speech President Pence!!!!!!!!!!!! I WISH YOU GUYS ALL THE BEST 😞🇬🇧 this is all trumps fault, great job merica!!! Con todo <3 This was the best integration of a SquareSpace sponsored video ever!!!!! I love your channel!!!!! 😀😀👍🏻 Fucking awesome hehe😂😂 The Best! Even the sponsers are so awesome THIS IS THE BEST You make me feel so happy,you inspire me,and if you ever doubt yourself don't you are perfect in every way and if you see a flaw all I see is flawlessness How can someone call kirstie a slut when she's that flawless (yes I know it's for the video) Slay so amazing!!!!! I can't wait until number 100! Your the best knowledge whale <3! JALOPNIK is here :D http://jalopnik.com/this-one-little-engineering-detail-is-a-great-reminder-1803758960 welcome to the loser club motherfucker! This song is really awesome!!! 👌👌👏👏 Legendary Soo soo awesome <3 this song! <3 Perfect Loved the video Jeffree.Keep on slayin!!! I don't know if i missed this in the video but what shade are you using for your foundation? Chris Martin <3 This looks great! :D Avicii <3 <3 Awesome That's all I think that his hairline is perfect but he is experiencing alopecia by his hairline. Best one yet!!!👊🏽 i think Paul Scholes has to be in that team....and barnes over giggs in my opinion. Best partner for Shearer for me is Sheringham Tim Curry for the Win! Dragon drop sounds great! Best tech at Walmart or autozone God damn it man, your videos are awesome. Keep it up! This is probably the best episode I have ever seen Jazelle is the best bitch actress 7:05 This man is the definition of awesome 👏 Morgan is the best actor ever The Best Song Ever I made a cover of this , please help me and check it out <3 https://youtu.be/XwJrbyw2Uo Dusk Till Dawn Remix listen it :D Cr7 el mejor de todos, me conmovió el comentario de que solo tiene hasta 6 año de escolaridad pero tiene el carácter de decirlo, no merece que en España y alrededor del lindo le tengan envidia y lo quieran ver hundido. Grande CR7 The Best One of the best footages of 2017 What a happy ending! Beautiful!!! This is the best rosting video ever Do you pain your toenails!? :D THIS IS THE BEST THING EVER! Opera is the best! Peter! You should do a song with Natewantstobattle! Please it would be awesome! Josh Groban Van Morrison were the best! In my opinion. This was awesome. I especially liked the country one wohoo Sykrim :D simply awesome guys!!! That was amazing!!! I think this looks awesome ! Jamie your skin looks beautiful!!! xxox Your skin is PERFECT Your skin looked great!! Ur accent is everything!!! And ur so beautiful!! A B S O L U T E L Y flawless! This is the best I have ever seen your skin! It looks so beautiful! NUMBER 34 ON TRENDING ❤️ love you boo!!!! Damn, I loved this theory!!! I REALLY HOPE THIS HAPPENS!!!!!!!!!!!! makes perfect sense! Woww perisic.. magnificent goal.. Valentina, never leave it in the hands of the judges. To win a title fight you need to knock out or submit your opponent. You did not do that so stop whining!!!! Best President in history! Obamacare is the greatest tax is it not?  $12000 for a family? I'm impressed. Omg I'm so happy you hit a million subscribers Maya!!!! 😆😆😆😆😛 Amazing!!!! Awesome review! Great review ! Great review! <3 Love it!!!!!! #shamelessfentybeauty 0:54 you should've said If I mix them all together, maybe I can get the best of both worlds. Are you going to try Fenty Beauty by Rhianna?? I think that would be an awesome video! I use the NYX drop foundation in a 11 and it matches perfect but then as the day goes on it makes me look lighter but when I use the 13 it makes me look  tan like I've been in the sun for hours and I'm already tan but not that tan. It matches you perfectly keep using it I loved this!! ❤️ Asopotamadre :'v ♥ Aquellos tiempos, escuchar este tipo de canciones me regresa en el tiempo que hermoso.\\\\nOjala y no se hubieran separado <3 Hey!! I think you should collaborate with Ian Hecox, do you know him? I think you would make a great collab! This video is terrifyingly awesome! 😂 This is Brilliant! xDDD This song is perfect I am in love with this! And she is looking ah-mazing!!! #BringBackMyGirls #YesKelly Slay it Kelly! Awesome song This video is awesome AWESOME!!!! Song and Video! Kelly Looks FAB! Hmmmm\\\\n*looks up search history*\\\\nwww.thepiratebay.org\\\\nwww.kickasstorrents.se\\\\ngoogle: Best torrent VPN\\\\nHmmmmm, wonder what I do... All these girls are flawless and I'm over here dealing with acne 😂😒 love this song. kinda beyonce vibes. my girls always slaying. now let's just take a minute and how the makeup and hair are ON FLEEK!!!!!!!!! 8:59 Woozi's reaction is so priceless I kennot😂 😂 Isn't immigration wonderful iPhone 6s is still the best iPhone for the price and the performance I will buy the HTC u11 everything is awesome about it Louise you are beautiful!!! I LOVE your hair!!!! your hair looks incredible i wish i had the guts to do that!! 😍 Hair looks amazing!!!!! You look beautiful Fleur! I've heard great things about pre-natal chiropractic for pelvis/back pain! Good song!!! The never aging Shakira <3 Essa mulher arrasa muito ♥ merece muito mais reconhecimento! The best in the world at what he does Happy 4 million, James! 19 trending! :D Oh boy its the best one! I am offended on behalf of all Australia, Vegemite is the best spread to ever exist. It's not an acquired taste, you're just uncultured swine! james is getting closer to domics :D Veggimite is DELICIOUS Why don't you just put over some Blankets on the sofa when you go to bed or away :D Damnit Pamaj.... Kappa :D Every Vlog from now on I am going to write this <3 Day 169! Hey syndicate, I just wanted you too know today was my birthday :D! And i gotta say this video was the best thing I got today!! <3 OMG! That's very beautiful Oml it's perfect!! Creo que necesito oxigeno para respirar, además de un corazón nuevo... ¿Cómo voy a soportar tanta belleza junta este lunes?¡Rayos chicos! se ven L I N D O S\\xa0 <3 Still think islam is a wonderful religion? Deport them <3 I WANT MORE!!!!!! WE GOTTA KNOW THE HISTORY!! Love it!!!! More, please!!!!!!!!! I love meet Arnold!!!!! (: nice ass baby!!! Jonathan you do an awesome job vlogging every day and make the vlogs funnier as you can get them!!!!...I reallly appreciate you for letting us come into your home!!!....Thank You Guys!!!!!! your skin is sooooooooooooooooo amazing!!! would you make a video telling us your skin care journey, PLEASEEE When you said you couldn't find the pencil, I immediately thought check to see if Edie has it! Lol!!  Did you ever find it? Great video. Dior, please! :D Please do a Fenty Beauty Review like this!! <3 Best team ever. Come at me haters! 🖕🏿 City have just smashed arguably the best side in Europe atm 4-0. There's no reason why we can't go on and win it now! #FeyenoordWho? Love the knee length boots!!!!!!! Love you're lace front!!!! Where did you get it? Omg your so perfect i love your accent!!!!!! is Leslie still her best friend?🤔 This is and always will be the best song  of Mileys is she still best friends with lesley though? btw i started watching the handmaid's tale on your recommendation and omg it was so good!! haven't been that into a series in quite a while. thank you!! <3 Always love seeing Jason! And I've been wanting to make banana bread for ages!!! Think I'm gonna do it tomorrow... Best music in the vlogs on youtube really fun video i loveedd itt!!!!!! You are perfect!!!! Alright my fellow conspiracy enthusiasts, this trailer is dripping in Illuminati messages, can you find the clues? Reply and lemme know what you find! :D All the money in the world, but doesn't have the best security team Great music choice! Stranger Things, please <3 Jennifer lawerence is an awesome actress...its just the roles shes gotten suck I WANT TO SEE A CLOSET TOUR <3 p.s. those manolos!! Yes for a closet tour !!! You have the best fashion style of any You Tuber I know !!🙌🙌 your skin looks beautiful! Best thing ever Best thing I've seen in a while. She's a don. This is basically AMAZINGGGGGGGGGG!!!!!!! <3 Imagine Judy Dench twerking lol! What atmosphere!!! I love football with piece!!!!! I wondered why the music was building... now I know.  :D Officially the greatest of all the vlogbrothers videos. This is the best video on the internet. wonderful adventure, excellent composition Beautiful footage! That kitten wasn't sleeping, it was knocked out ! :D Most loneliest?!!!! This vídeo was AWESOME!!! Tks Louis!!! Awesome video, thank you for sharing. best vlogging on youtube now Keep the star sandals and toss the pointy boots :D You're look beautiful! I feel like the star shoes will be perfect for xmas events perfectly colored! your hair looked gorgeous!! keep the heels!!!! ⭐️ love them!!!! Wonderful video!!!! (As always) 😊 also where are your boots from? I'm on the look out for a pair for the wintery months and your ones are perfect! So so happy to see the return of Food Diary Fridays!!!!!!!!!! 💖 Aaah what a beautiful video! You have me dreaming of travel 💕 Ahhh, beautiful France!! Beautiful video! Paris à travers les yeux d’un étranger! (= Paris through the eyes of a stranger) \\xa0But (10:06 that’s not Notre Dame!) \\xa0<3 She's so beautiful! Congratulations! Omg shes perfect 😍😍😍 Dear god! How is he so gorgeous?!! I can't handle this!!! 😭😭😭💜💜💜💜🙌🏽🙌🏽 BLR, this is your best one yet. Bravo, my face hurts from laughing! These are masterfully done. Best one yet!! Maybe for halloween 2017 you could do a glam Devil. But loved this look Mykie!! ❤️❤️ PLEASE DO A FALL OUT 4 LOOK BEFORE I DIE THANK YOU!!!!!! Great vid btw! I freaking love ur take on pennywise!!!!!!!!!!!!!!! Awesome!! Also is that an alibreje creature? Awesome just like in Legend quest I AGREE WITH THE YOUTUBE-LIKERS, I WANT TO SEE THAT MOVIE CALLED: DISNEY PIXAR COCO THE 2017 COMEDY MOVIE TOO!!!!!!!    :-D Oscar for best anime on the way 😇 This looks wonderful Awesome trailer Soy mexicana y esta película me emociona. Qué bueno que Pixar abarque otras culturas y, por lo que sé, hay una profunda investigación de sus realizadores respecto a la tradición, incluso estuvieron en época de día de muertos en varios lugares de México para contrastar las diversas maneras que celebramos esta fecha. Ya en el trailer se ve que es una belleza. Viva México y latinoamerica. <3 Best show on youtube. She has awesome hand movements. Sam is so awesome This song is so good!! 😍 Best video/song yet AWESOME Loved the video!! you literally have a holiday glow with this ! <3 Fleur's reviews are the best reviews 💕 Best beer they make. Miller lite👌🏻 You are the best YouTuber dua is one of the best singers ever Perfect two ppl to cover this song and do any justice this is everything!! so so good !!!!!!! Now I can die in peace, I always wanted to hear Dua covering Amy Winehouse, RIP beautiful soul she would've been 34 years by now, gone too soon! OMG, you guys are amazingg... perfect duet. Dua is a queen ooowwwwyeaaaaahhhhh <3 SHE'S SO BRILLIANT!!!!!! Yasss!!!! Foda demais ♥ The best MAKE A BRAVE WILDERNESS MOVIE!!! Anyone want to give me $800? I'll let you build the Falcon with me :D That's like the best conversation starter ever This is awesome, but how could you rip the pages out of the book?!? Comparing the 2 models, excellent Awesome review guys. Mine will be at my house Tuesday. Can't wait to build it! Let the Wookie win! Carli keep your hair! Your hair looks beautiful just the way it is! You need to buy a temperpedic mattress you'll die it's amazing!!!!!! You are so gorgeous!!! Congratulation for 5 millions subscribers . Keep up the awesome work. I watch your videos almost immediately you release them. Congratulations 🎊🎉🎈Brother 👍\\\\nHuge fan of your 🤗\\\\nAll the Best 🤓 Is the giveaway a 5k iMac Pro? And if so did I just win!? No you shouldn't have... I was the 4,999,999 subscriber :D Congrats Marques! Your videos are really awesome. That earring!  Very beautiful!  What is the brand? Please do a tutorial on this eye look rn please!!! Soooooo gorgeous!! 😍 The packaging is beautiful! Your eye makeup looks so beautiful! The makeup looks so on fleek love!!!! Try out Mary Kay makeup! The Timewise face set is awesome! Always giving out the best haul ever Great picks! CONGRATS BART AND GEEO!~ <3 NUMBER 41 ON YOUTUBE IN AUSTRALIA!~ <3 <3 <3 <3 <3 <3 ANDROID IS THE BEST 👍 LOVED this video!!! You are awesome Lol urgent care loves it! LOVE this video!!! Those B&BW candles are my favorites! I can't resist them when I pass the store #14 on trending! yay so fricken proud of you casey!!!!! get it gurl Girl start shopping for your snow boots!!!Snow will be here before you know it! Welcome to Fort Drum! Mike Tyson mysteries is the best OMG! Norm is the best! I like his Professor of Logic Joke - look for it on youtube if you haven't seen/heard it :D This is so fuckin brilliant!!! Finally! Best part of his Boiler Room Reykjavik set in my opinion Best song in his reykjavik boiler room set... i want a jamie remix of EVERY xx song... #dream <3 DAMN THIS REMIX IS SO GOOD!!!! Jamie is the best!!! Superb superb pet-shop-boys-like intro! <3 Tremendo remix! ♥ OMFG , marvelous!!!!!\""
            ]
          },
          "metadata": {
            "tags": []
          },
          "execution_count": 22
        }
      ]
    }
  ]
}